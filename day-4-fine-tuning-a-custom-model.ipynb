{
 "cells": [
  {
   "cell_type": "markdown",
   "id": "354890b7",
   "metadata": {
    "id": "b6e13eef3f5d",
    "papermill": {
     "duration": 0.014374,
     "end_time": "2024-11-16T02:53:39.280061",
     "exception": false,
     "start_time": "2024-11-16T02:53:39.265687",
     "status": "completed"
    },
    "tags": []
   },
   "source": [
    "##### Copyright 2024 Google LLC."
   ]
  },
  {
   "cell_type": "code",
   "execution_count": 1,
   "id": "2f57305a",
   "metadata": {
    "cellView": "form",
    "execution": {
     "iopub.execute_input": "2024-11-16T02:53:39.309237Z",
     "iopub.status.busy": "2024-11-16T02:53:39.308767Z",
     "iopub.status.idle": "2024-11-16T02:53:39.316241Z",
     "shell.execute_reply": "2024-11-16T02:53:39.315067Z"
    },
    "id": "d6597b11df14",
    "jupyter": {
     "source_hidden": true
    },
    "papermill": {
     "duration": 0.025231,
     "end_time": "2024-11-16T02:53:39.318954",
     "exception": false,
     "start_time": "2024-11-16T02:53:39.293723",
     "status": "completed"
    },
    "tags": []
   },
   "outputs": [],
   "source": [
    "# @title Licensed under the Apache License, Version 2.0 (the \"License\");\n",
    "# you may not use this file except in compliance with the License.\n",
    "# You may obtain a copy of the License at\n",
    "#\n",
    "# https://www.apache.org/licenses/LICENSE-2.0\n",
    "#\n",
    "# Unless required by applicable law or agreed to in writing, software\n",
    "# distributed under the License is distributed on an \"AS IS\" BASIS,\n",
    "# WITHOUT WARRANTIES OR CONDITIONS OF ANY KIND, either express or implied.\n",
    "# See the License for the specific language governing permissions and\n",
    "# limitations under the License."
   ]
  },
  {
   "cell_type": "markdown",
   "id": "a064e827",
   "metadata": {
    "id": "4KDIFPAL2EnL",
    "papermill": {
     "duration": 0.01321,
     "end_time": "2024-11-16T02:53:39.346705",
     "exception": false,
     "start_time": "2024-11-16T02:53:39.333495",
     "status": "completed"
    },
    "tags": []
   },
   "source": [
    "# Day 4 - Fine tuning a custom model\n",
    "\n",
    "Welcome back to the Kaggle 5-day Generative AI course!\n",
    "\n",
    "In this notebook you will use the Gemini API to fine-tune a custom, task-specific model. Fine-tuning can be used for a variety of tasks from classic NLP problems like entity extraction or summarisation, to creative tasks like stylised generation. You will fine-tune a model to classify the category a piece of text (a newsgroup post) into the category it belongs to (the newsgroup name).\n",
    "\n",
    "This codelab walks you tuning a model with the API. [AI Studio](https://aistudio.google.com/app/tune) also supports creating new tuned models directly in the web UI, allowing you to quickly create and monitor models using data from Google Sheets, Drive or your own files."
   ]
  },
  {
   "cell_type": "code",
   "execution_count": 2,
   "id": "1516acb0",
   "metadata": {
    "execution": {
     "iopub.execute_input": "2024-11-16T02:53:39.375889Z",
     "iopub.status.busy": "2024-11-16T02:53:39.375453Z",
     "iopub.status.idle": "2024-11-16T02:54:14.267075Z",
     "shell.execute_reply": "2024-11-16T02:54:14.265474Z"
    },
    "id": "9wafTyEH1_xF",
    "papermill": {
     "duration": 34.92195,
     "end_time": "2024-11-16T02:54:14.282589",
     "exception": false,
     "start_time": "2024-11-16T02:53:39.360639",
     "status": "completed"
    },
    "tags": []
   },
   "outputs": [
    {
     "name": "stdout",
     "output_type": "stream",
     "text": [
      "Note: you may need to restart the kernel to use updated packages.\n"
     ]
    }
   ],
   "source": [
    "%pip install -U -q 'google-generativeai>=0.8.3'"
   ]
  },
  {
   "cell_type": "markdown",
   "id": "300277ba",
   "metadata": {
    "papermill": {
     "duration": 0.018673,
     "end_time": "2024-11-16T02:54:14.319957",
     "exception": false,
     "start_time": "2024-11-16T02:54:14.301284",
     "status": "completed"
    },
    "tags": []
   },
   "source": [
    "Note that you do not have to restart the kernel."
   ]
  },
  {
   "cell_type": "code",
   "execution_count": 3,
   "id": "9e8d271d",
   "metadata": {
    "execution": {
     "iopub.execute_input": "2024-11-16T02:54:14.357534Z",
     "iopub.status.busy": "2024-11-16T02:54:14.356985Z",
     "iopub.status.idle": "2024-11-16T02:54:15.669269Z",
     "shell.execute_reply": "2024-11-16T02:54:15.667961Z"
    },
    "id": "T0CBG9xL2PvT",
    "papermill": {
     "duration": 1.333614,
     "end_time": "2024-11-16T02:54:15.672238",
     "exception": false,
     "start_time": "2024-11-16T02:54:14.338624",
     "status": "completed"
    },
    "tags": []
   },
   "outputs": [],
   "source": [
    "import google.generativeai as genai"
   ]
  },
  {
   "cell_type": "markdown",
   "id": "b879bee4",
   "metadata": {
    "id": "P4bYX2T72ScK",
    "papermill": {
     "duration": 0.01342,
     "end_time": "2024-11-16T02:54:15.699507",
     "exception": false,
     "start_time": "2024-11-16T02:54:15.686087",
     "status": "completed"
    },
    "tags": []
   },
   "source": [
    "### Set up your API key\n",
    "\n",
    "To run the following cell, your API key must be stored it in a [Kaggle secret](https://www.kaggle.com/discussions/product-feedback/114053) named `GOOGLE_API_KEY`.\n",
    "\n",
    "If you don't already have an API key, you can grab one from [AI Studio](https://aistudio.google.com/app/apikey). You can find [detailed instructions in the docs](https://ai.google.dev/gemini-api/docs/api-key).\n",
    "\n",
    "To make the key available through Kaggle secrets, choose `Secrets` from the `Add-ons` menu and follow the instructions to add your key or enable it for this notebook."
   ]
  },
  {
   "cell_type": "code",
   "execution_count": 4,
   "id": "ee93632b",
   "metadata": {
    "execution": {
     "iopub.execute_input": "2024-11-16T02:54:15.730147Z",
     "iopub.status.busy": "2024-11-16T02:54:15.729292Z",
     "iopub.status.idle": "2024-11-16T02:54:15.903632Z",
     "shell.execute_reply": "2024-11-16T02:54:15.901877Z"
    },
    "id": "VuJPY3GK2SLZ",
    "papermill": {
     "duration": 0.194666,
     "end_time": "2024-11-16T02:54:15.907899",
     "exception": false,
     "start_time": "2024-11-16T02:54:15.713233",
     "status": "completed"
    },
    "tags": []
   },
   "outputs": [],
   "source": [
    "from kaggle_secrets import UserSecretsClient\n",
    "\n",
    "GOOGLE_API_KEY = UserSecretsClient().get_secret(\"GOOGLE_API_KEY\")\n",
    "genai.configure(api_key=GOOGLE_API_KEY)"
   ]
  },
  {
   "attachments": {
    "53e1d527-de81-497e-bfac-58df458e750b.png": {
     "image/png": "[encoded data removed]"
    }
   },
   "cell_type": "markdown",
   "id": "922e479f",
   "metadata": {
    "id": "25b2127c2052",
    "papermill": {
     "duration": 0.019696,
     "end_time": "2024-11-16T02:54:15.945252",
     "exception": false,
     "start_time": "2024-11-16T02:54:15.925556",
     "status": "completed"
    },
    "tags": []
   },
   "source": [
    "If you received an error response along the lines of `No user secrets exist for kernel id ...`, then you need to add your API key via `Add-ons`, `Secrets` **and** enable it.\n",
    "\n",
    "![Screenshot of the checkbox to enable GOOGLE_API_KEY secret](https://storage.googleapis.com/kaggle-media/Images/5gdai_sc_3.png)"
   ]
  },
  {
   "cell_type": "markdown",
   "id": "940c0227",
   "metadata": {
    "id": "CqVA5QFO6n4z",
    "papermill": {
     "duration": 0.016585,
     "end_time": "2024-11-16T02:54:15.978630",
     "exception": false,
     "start_time": "2024-11-16T02:54:15.962045",
     "status": "completed"
    },
    "tags": []
   },
   "source": [
    "### Explore available models\n",
    "\n",
    "You will be using the [`TunedModel.create`](https://ai.google.dev/api/tuning#method:-tunedmodels.create) API method to start the fine-tuning job and create your custom model. Find a model that supports it through the [`models.list`](https://ai.google.dev/api/models#method:-models.list) endpoint. You can also find more information about tuning models in [the model tuning docs](https://ai.google.dev/gemini-api/docs/model-tuning/tutorial?lang=python)."
   ]
  },
  {
   "cell_type": "code",
   "execution_count": 5,
   "id": "92e1c40e",
   "metadata": {
    "execution": {
     "iopub.execute_input": "2024-11-16T02:54:16.008328Z",
     "iopub.status.busy": "2024-11-16T02:54:16.007762Z",
     "iopub.status.idle": "2024-11-16T02:54:16.244729Z",
     "shell.execute_reply": "2024-11-16T02:54:16.243578Z"
    },
    "id": "coEacWAB6o0G",
    "papermill": {
     "duration": 0.255542,
     "end_time": "2024-11-16T02:54:16.248115",
     "exception": false,
     "start_time": "2024-11-16T02:54:15.992573",
     "status": "completed"
    },
    "tags": []
   },
   "outputs": [
    {
     "name": "stdout",
     "output_type": "stream",
     "text": [
      "models/gemini-1.0-pro-001\n",
      "models/gemini-1.5-flash-001-tuning\n"
     ]
    }
   ],
   "source": [
    "for model in genai.list_models():\n",
    "    if \"createTunedModel\" in model.supported_generation_methods:\n",
    "        print(model.name)"
   ]
  },
  {
   "cell_type": "markdown",
   "id": "2d7ae354",
   "metadata": {
    "id": "peFm0w_0c1CO",
    "papermill": {
     "duration": 0.014321,
     "end_time": "2024-11-16T02:54:16.281868",
     "exception": false,
     "start_time": "2024-11-16T02:54:16.267547",
     "status": "completed"
    },
    "tags": []
   },
   "source": [
    "## Download the dataset\n",
    "\n",
    "In this activity, you will use the same newsgroups dataset that you used to train a classifier in Keras. In this example you will use a fine-tuned Gemini model to achieve the same goal.\n",
    "\n",
    "The [20 Newsgroups Text Dataset](https://scikit-learn.org/0.19/datasets/twenty_newsgroups.html) contains 18,000 newsgroups posts on 20 topics divided into training and test sets."
   ]
  },
  {
   "cell_type": "code",
   "execution_count": 6,
   "id": "12a98a9c",
   "metadata": {
    "execution": {
     "iopub.execute_input": "2024-11-16T02:54:16.313852Z",
     "iopub.status.busy": "2024-11-16T02:54:16.313271Z",
     "iopub.status.idle": "2024-11-16T02:54:30.540718Z",
     "shell.execute_reply": "2024-11-16T02:54:30.539350Z"
    },
    "id": "bX_kpgnQ9b-Z",
    "papermill": {
     "duration": 14.247514,
     "end_time": "2024-11-16T02:54:30.543440",
     "exception": false,
     "start_time": "2024-11-16T02:54:16.295926",
     "status": "completed"
    },
    "tags": []
   },
   "outputs": [
    {
     "data": {
      "text/plain": [
       "['alt.atheism',\n",
       " 'comp.graphics',\n",
       " 'comp.os.ms-windows.misc',\n",
       " 'comp.sys.ibm.pc.hardware',\n",
       " 'comp.sys.mac.hardware',\n",
       " 'comp.windows.x',\n",
       " 'misc.forsale',\n",
       " 'rec.autos',\n",
       " 'rec.motorcycles',\n",
       " 'rec.sport.baseball',\n",
       " 'rec.sport.hockey',\n",
       " 'sci.crypt',\n",
       " 'sci.electronics',\n",
       " 'sci.med',\n",
       " 'sci.space',\n",
       " 'soc.religion.christian',\n",
       " 'talk.politics.guns',\n",
       " 'talk.politics.mideast',\n",
       " 'talk.politics.misc',\n",
       " 'talk.religion.misc']"
      ]
     },
     "execution_count": 6,
     "metadata": {},
     "output_type": "execute_result"
    }
   ],
   "source": [
    "from sklearn.datasets import fetch_20newsgroups\n",
    "\n",
    "newsgroups_train = fetch_20newsgroups(subset=\"train\")\n",
    "newsgroups_test = fetch_20newsgroups(subset=\"test\")\n",
    "\n",
    "# View list of class names for dataset\n",
    "newsgroups_train.target_names"
   ]
  },
  {
   "cell_type": "markdown",
   "id": "b85127ba",
   "metadata": {
    "id": "ipafe6ptZFjt",
    "papermill": {
     "duration": 0.014377,
     "end_time": "2024-11-16T02:54:30.572250",
     "exception": false,
     "start_time": "2024-11-16T02:54:30.557873",
     "status": "completed"
    },
    "tags": []
   },
   "source": [
    "Here's what a single row looks like."
   ]
  },
  {
   "cell_type": "code",
   "execution_count": 7,
   "id": "f728e822",
   "metadata": {
    "execution": {
     "iopub.execute_input": "2024-11-16T02:54:30.602841Z",
     "iopub.status.busy": "2024-11-16T02:54:30.601817Z",
     "iopub.status.idle": "2024-11-16T02:54:30.608585Z",
     "shell.execute_reply": "2024-11-16T02:54:30.607205Z"
    },
    "id": "EtEXcdT39hCB",
    "papermill": {
     "duration": 0.025179,
     "end_time": "2024-11-16T02:54:30.611442",
     "exception": false,
     "start_time": "2024-11-16T02:54:30.586263",
     "status": "completed"
    },
    "tags": []
   },
   "outputs": [
    {
     "name": "stdout",
     "output_type": "stream",
     "text": [
      "From: lerxst@wam.umd.edu (where's my thing)\n",
      "Subject: WHAT car is this!?\n",
      "Nntp-Posting-Host: rac3.wam.umd.edu\n",
      "Organization: University of Maryland, College Park\n",
      "Lines: 15\n",
      "\n",
      " I was wondering if anyone out there could enlighten me on this car I saw\n",
      "the other day. It was a 2-door sports car, looked to be from the late 60s/\n",
      "early 70s. It was called a Bricklin. The doors were really small. In addition,\n",
      "the front bumper was separate from the rest of the body. This is \n",
      "all I know. If anyone can tellme a model name, engine specs, years\n",
      "of production, where this car is made, history, or whatever info you\n",
      "have on this funky looking car, please e-mail.\n",
      "\n",
      "Thanks,\n",
      "- IL\n",
      "   ---- brought to you by your neighborhood Lerxst ----\n",
      "\n",
      "\n",
      "\n",
      "\n",
      "\n"
     ]
    }
   ],
   "source": [
    "print(newsgroups_train.data[0])"
   ]
  },
  {
   "cell_type": "markdown",
   "id": "f5c72a77",
   "metadata": {
    "id": "03lDs1O4ZQ0-",
    "papermill": {
     "duration": 0.013893,
     "end_time": "2024-11-16T02:54:30.639393",
     "exception": false,
     "start_time": "2024-11-16T02:54:30.625500",
     "status": "completed"
    },
    "tags": []
   },
   "source": [
    "## Prepare the dataset\n",
    "\n",
    "You'll use the same pre-processing code you used for the custom model on day 2. This pre-processing removes personal information, which can be used to \"shortcut\" to known users of a forum, and formats the text to appear a bit more like regular text and less like a newsgroup post (e.g. by removing the mail headers). This normalisation allows the model to generalise to regular text and not over-depend on specific fields. If your input data is always going to be newsgroup posts, it may be helpful to leave this structure in place if they provide genuine signals."
   ]
  },
  {
   "cell_type": "code",
   "execution_count": 8,
   "id": "471840dc",
   "metadata": {
    "execution": {
     "iopub.execute_input": "2024-11-16T02:54:30.669647Z",
     "iopub.status.busy": "2024-11-16T02:54:30.669167Z",
     "iopub.status.idle": "2024-11-16T02:54:31.679363Z",
     "shell.execute_reply": "2024-11-16T02:54:31.678195Z"
    },
    "id": "IoNYTxpoZgB0",
    "papermill": {
     "duration": 1.028737,
     "end_time": "2024-11-16T02:54:31.682298",
     "exception": false,
     "start_time": "2024-11-16T02:54:30.653561",
     "status": "completed"
    },
    "tags": []
   },
   "outputs": [],
   "source": [
    "import email\n",
    "import re\n",
    "\n",
    "import pandas as pd\n",
    "\n",
    "\n",
    "def preprocess_newsgroup_row(data):\n",
    "    # Extract only the subject and body\n",
    "    msg = email.message_from_string(data)\n",
    "    text = f\"{msg['Subject']}\\n\\n{msg.get_payload()}\"\n",
    "    # Strip any remaining email addresses\n",
    "    text = re.sub(r\"[\\w\\.-]+@[\\w\\.-]+\", \"\", text)\n",
    "    # Truncate the text to fit within the input limits\n",
    "    text = text[:40000]\n",
    "\n",
    "    return text\n",
    "\n",
    "\n",
    "def preprocess_newsgroup_data(newsgroup_dataset):\n",
    "    # Put data points into dataframe\n",
    "    df = pd.DataFrame(\n",
    "        {\"Text\": newsgroup_dataset.data, \"Label\": newsgroup_dataset.target}\n",
    "    )\n",
    "    # Clean up the text\n",
    "    df[\"Text\"] = df[\"Text\"].apply(preprocess_newsgroup_row)\n",
    "    # Match label to target name index\n",
    "    df[\"Class Name\"] = df[\"Label\"].map(lambda l: newsgroup_dataset.target_names[l])\n",
    "\n",
    "    return df"
   ]
  },
  {
   "cell_type": "code",
   "execution_count": 9,
   "id": "5df45c9c",
   "metadata": {
    "execution": {
     "iopub.execute_input": "2024-11-16T02:54:31.712897Z",
     "iopub.status.busy": "2024-11-16T02:54:31.712205Z",
     "iopub.status.idle": "2024-11-16T02:54:38.434159Z",
     "shell.execute_reply": "2024-11-16T02:54:38.433017Z"
    },
    "id": "kvOsUSRWaW4g",
    "papermill": {
     "duration": 6.739858,
     "end_time": "2024-11-16T02:54:38.436640",
     "exception": false,
     "start_time": "2024-11-16T02:54:31.696782",
     "status": "completed"
    },
    "tags": []
   },
   "outputs": [
    {
     "data": {
      "text/html": [
       "<div>\n",
       "<style scoped>\n",
       "    .dataframe tbody tr th:only-of-type {\n",
       "        vertical-align: middle;\n",
       "    }\n",
       "\n",
       "    .dataframe tbody tr th {\n",
       "        vertical-align: top;\n",
       "    }\n",
       "\n",
       "    .dataframe thead th {\n",
       "        text-align: right;\n",
       "    }\n",
       "</style>\n",
       "<table border=\"1\" class=\"dataframe\">\n",
       "  <thead>\n",
       "    <tr style=\"text-align: right;\">\n",
       "      <th></th>\n",
       "      <th>Text</th>\n",
       "      <th>Label</th>\n",
       "      <th>Class Name</th>\n",
       "    </tr>\n",
       "  </thead>\n",
       "  <tbody>\n",
       "    <tr>\n",
       "      <th>0</th>\n",
       "      <td>WHAT car is this!?\\n\\n I was wondering if anyo...</td>\n",
       "      <td>7</td>\n",
       "      <td>rec.autos</td>\n",
       "    </tr>\n",
       "    <tr>\n",
       "      <th>1</th>\n",
       "      <td>SI Clock Poll - Final Call\\n\\nA fair number of...</td>\n",
       "      <td>4</td>\n",
       "      <td>comp.sys.mac.hardware</td>\n",
       "    </tr>\n",
       "    <tr>\n",
       "      <th>2</th>\n",
       "      <td>PB questions...\\n\\nwell folks, my mac plus fin...</td>\n",
       "      <td>4</td>\n",
       "      <td>comp.sys.mac.hardware</td>\n",
       "    </tr>\n",
       "    <tr>\n",
       "      <th>3</th>\n",
       "      <td>Re: Weitek P9000 ?\\n\\nRobert J.C. Kyanko () wr...</td>\n",
       "      <td>1</td>\n",
       "      <td>comp.graphics</td>\n",
       "    </tr>\n",
       "    <tr>\n",
       "      <th>4</th>\n",
       "      <td>Re: Shuttle Launch Question\\n\\nFrom article &lt;&gt;...</td>\n",
       "      <td>14</td>\n",
       "      <td>sci.space</td>\n",
       "    </tr>\n",
       "  </tbody>\n",
       "</table>\n",
       "</div>"
      ],
      "text/plain": [
       "                                                Text  Label  \\\n",
       "0  WHAT car is this!?\\n\\n I was wondering if anyo...      7   \n",
       "1  SI Clock Poll - Final Call\\n\\nA fair number of...      4   \n",
       "2  PB questions...\\n\\nwell folks, my mac plus fin...      4   \n",
       "3  Re: Weitek P9000 ?\\n\\nRobert J.C. Kyanko () wr...      1   \n",
       "4  Re: Shuttle Launch Question\\n\\nFrom article <>...     14   \n",
       "\n",
       "              Class Name  \n",
       "0              rec.autos  \n",
       "1  comp.sys.mac.hardware  \n",
       "2  comp.sys.mac.hardware  \n",
       "3          comp.graphics  \n",
       "4              sci.space  "
      ]
     },
     "execution_count": 9,
     "metadata": {},
     "output_type": "execute_result"
    }
   ],
   "source": [
    "# Apply preprocessing to training and test datasets\n",
    "df_train = preprocess_newsgroup_data(newsgroups_train)\n",
    "df_test = preprocess_newsgroup_data(newsgroups_test)\n",
    "\n",
    "df_train.head()"
   ]
  },
  {
   "cell_type": "markdown",
   "id": "3a6ce948",
   "metadata": {
    "id": "XSKcj5WtadaR",
    "papermill": {
     "duration": 0.014166,
     "end_time": "2024-11-16T02:54:38.464976",
     "exception": false,
     "start_time": "2024-11-16T02:54:38.450810",
     "status": "completed"
    },
    "tags": []
   },
   "source": [
    "Now sample the data. You will keep 50 rows for each category for training. Note that this is even fewer than the Keras example, as this technique (parameter-efficient fine-tuning, or PEFT) updates a relatively small number of parameters and does not require training a new model or updating the large model."
   ]
  },
  {
   "cell_type": "code",
   "execution_count": 10,
   "id": "0a1bcf0f",
   "metadata": {
    "execution": {
     "iopub.execute_input": "2024-11-16T02:54:38.495882Z",
     "iopub.status.busy": "2024-11-16T02:54:38.495417Z",
     "iopub.status.idle": "2024-11-16T02:54:38.547496Z",
     "shell.execute_reply": "2024-11-16T02:54:38.546372Z"
    },
    "id": "0t9Xu6X5akkt",
    "papermill": {
     "duration": 0.07126,
     "end_time": "2024-11-16T02:54:38.550429",
     "exception": false,
     "start_time": "2024-11-16T02:54:38.479169",
     "status": "completed"
    },
    "tags": []
   },
   "outputs": [],
   "source": [
    "def sample_data(df, num_samples, classes_to_keep):\n",
    "    # Sample rows, selecting num_samples of each Label.\n",
    "    df = (\n",
    "        df.groupby(\"Label\")[df.columns]\n",
    "        .apply(lambda x: x.sample(num_samples))\n",
    "        .reset_index(drop=True)\n",
    "    )\n",
    "\n",
    "    df = df[df[\"Class Name\"].str.contains(classes_to_keep)]\n",
    "    df[\"Class Name\"] = df[\"Class Name\"].astype(\"category\")\n",
    "\n",
    "    return df\n",
    "\n",
    "\n",
    "TRAIN_NUM_SAMPLES = 50\n",
    "TEST_NUM_SAMPLES = 10\n",
    "# Keep rec.* and sci.*\n",
    "CLASSES_TO_KEEP = \"^rec|^sci\"\n",
    "\n",
    "df_train = sample_data(df_train, TRAIN_NUM_SAMPLES, CLASSES_TO_KEEP)\n",
    "df_test = sample_data(df_test, TEST_NUM_SAMPLES, CLASSES_TO_KEEP)"
   ]
  },
  {
   "cell_type": "markdown",
   "id": "3ebe01f1",
   "metadata": {
    "papermill": {
     "duration": 0.014024,
     "end_time": "2024-11-16T02:54:38.578834",
     "exception": false,
     "start_time": "2024-11-16T02:54:38.564810",
     "status": "completed"
    },
    "tags": []
   },
   "source": [
    "## Evaluate baseline performance\n",
    "\n",
    "Before you start tuning a model, it's good practice to perform an evaluation on the available models to ensure you can measure how much the tuning helps.\n",
    "\n",
    "First identify a single sample row to use for visual inspection."
   ]
  },
  {
   "cell_type": "code",
   "execution_count": 11,
   "id": "3decb95b",
   "metadata": {
    "execution": {
     "iopub.execute_input": "2024-11-16T02:54:38.609672Z",
     "iopub.status.busy": "2024-11-16T02:54:38.609208Z",
     "iopub.status.idle": "2024-11-16T02:54:38.616889Z",
     "shell.execute_reply": "2024-11-16T02:54:38.615653Z"
    },
    "papermill": {
     "duration": 0.026308,
     "end_time": "2024-11-16T02:54:38.619627",
     "exception": false,
     "start_time": "2024-11-16T02:54:38.593319",
     "status": "completed"
    },
    "tags": []
   },
   "outputs": [
    {
     "name": "stdout",
     "output_type": "stream",
     "text": [
      "Need info on 88-89 Bonneville\n",
      "\n",
      "\n",
      " I am a little confused on all of the models of the 88-89 bonnevilles.\n",
      "I have heard of the LE SE LSE SSE SSEI. Could someone tell me the\n",
      "differences are far as features or performance. I am also curious to\n",
      "know what the book value is for prefereably the 89 model. And how much\n",
      "less than book value can you usually get them for. In other words how\n",
      "much are they in demand this time of year. I have heard that the mid-spring\n",
      "early summer is the best time to buy.\n",
      "\n",
      "\t\t\tNeil Gandler\n",
      "\n",
      "---\n",
      "Label: rec.autos\n"
     ]
    }
   ],
   "source": [
    "sample_idx = 0\n",
    "sample_row = preprocess_newsgroup_row(newsgroups_test.data[sample_idx])\n",
    "sample_label = newsgroups_test.target_names[newsgroups_test.target[sample_idx]]\n",
    "\n",
    "print(sample_row)\n",
    "print('---')\n",
    "print('Label:', sample_label)"
   ]
  },
  {
   "cell_type": "markdown",
   "id": "88dda02f",
   "metadata": {
    "papermill": {
     "duration": 0.013969,
     "end_time": "2024-11-16T02:54:38.647927",
     "exception": false,
     "start_time": "2024-11-16T02:54:38.633958",
     "status": "completed"
    },
    "tags": []
   },
   "source": [
    "Passing the text directly in as a prompt does not yield the desired results. The model will attempt to respond to the message."
   ]
  },
  {
   "cell_type": "code",
   "execution_count": 12,
   "id": "f4d7706d",
   "metadata": {
    "execution": {
     "iopub.execute_input": "2024-11-16T02:54:38.678813Z",
     "iopub.status.busy": "2024-11-16T02:54:38.678383Z",
     "iopub.status.idle": "2024-11-16T02:54:42.422162Z",
     "shell.execute_reply": "2024-11-16T02:54:42.420724Z"
    },
    "papermill": {
     "duration": 3.762801,
     "end_time": "2024-11-16T02:54:42.425180",
     "exception": false,
     "start_time": "2024-11-16T02:54:38.662379",
     "status": "completed"
    },
    "tags": []
   },
   "outputs": [
    {
     "name": "stdout",
     "output_type": "stream",
     "text": [
      "##  Decoding the 1988-1989 Bonneville Trim Levels:\n",
      "\n",
      "You're right, the Bonneville trim levels can be confusing! Here's a breakdown:\n",
      "\n",
      "**1988-1989 Bonneville Trim Levels:**\n",
      "\n",
      "* **LE:** The base model, featuring standard features like cloth upholstery, AM/FM radio, and power steering.\n",
      "\n",
      "* **SE:** The \"Special Edition\" package added some luxury touches, including:\n",
      "    *  Vinyl roof\n",
      "    *  Luxury interior appointments (possibly leather)\n",
      "    *  Possibly a \"SE\" badge on the trunk\n",
      "\n",
      "* **LSE:** The \"Luxury Special Edition\" package offered more upscale features, like:\n",
      "    *  Power windows\n",
      "    *  Power locks\n",
      "    *  Possible leather seats (depending on year)\n",
      "    *  Possible digital instrument cluster\n",
      "\n",
      "* **SSE:** The \"Sport Sedan Edition\" package offered a sporty appearance and some performance enhancements:\n",
      "    *  Unique grille and front fascia\n",
      "    *  Special wheels\n",
      "    *  Sport suspension\n",
      "    *  Slightly larger engine (possibly a 3.8L V6 in later years)\n",
      "    *  Possibly a \"SSE\" badge on the trunk\n",
      "\n",
      "* **SSEi:**  The \"Sport Sedan Edition, Injection\" package added fuel injection to the SSE's engine for better performance and fuel economy.\n",
      "\n",
      "**Key Differences:**\n",
      "\n",
      "The main differences between these trim levels are the level of luxury features and the presence of performance enhancements. The LE is the basic model, while the SSEi is the top-of-the-line performance version. \n",
      "\n",
      "**Book Value and Negotiation:**\n",
      "\n",
      "Determining book value for a 1989 Bonneville is a bit tricky. Factors like mileage, condition, and specific options can greatly affect value. You can use online resources like Kelley Blue Book, Edmunds, or NADAguides to get an initial estimate.\n",
      "\n",
      "**Negotiation:**\n",
      "\n",
      "While mid-spring to early summer is considered a good time to buy, negotiation can be challenging with older cars. It's common to find vehicles selling for **10-20% below book value**, especially if they have high mileage or require repairs.  However, the demand for classic Bonnevilles, particularly those in good condition, can sometimes push prices closer to book value.\n",
      "\n",
      "**Finding the Right Bonneville:**\n",
      "\n",
      "To find the right Bonneville for your needs and budget, it's essential to do your research:\n",
      "\n",
      "* **Research prices:** Compare online listings and local dealerships.\n",
      "* **Inspect thoroughly:** Look for signs of rust, damage, and leaks. Test drive to assess mechanical condition.\n",
      "* **Negotiate:** Be prepared to negotiate and be willing to walk away if the price isn't right.\n",
      "\n",
      "**Final Thoughts:**\n",
      "\n",
      "The 1988-1989 Bonneville offers classic styling and comfortable ride. However, these cars are aging, so thorough inspection and mechanical maintenance are crucial. Good luck with your search for the perfect Bonneville! \n",
      "\n"
     ]
    }
   ],
   "source": [
    "baseline_model = genai.GenerativeModel(\"gemini-1.5-flash-001\")\n",
    "response = baseline_model.generate_content(sample_row)\n",
    "print(response.text)"
   ]
  },
  {
   "cell_type": "markdown",
   "id": "93f7a5d2",
   "metadata": {
    "papermill": {
     "duration": 0.014296,
     "end_time": "2024-11-16T02:54:42.454169",
     "exception": false,
     "start_time": "2024-11-16T02:54:42.439873",
     "status": "completed"
    },
    "tags": []
   },
   "source": [
    "You can use the prompt engineering techniques you have learned this week to induce the model to perform the desired task. Try some of your own ideas and see what is effective, or check out the following cells for different approaches. Note that they have different levels of effectiveness!"
   ]
  },
  {
   "cell_type": "code",
   "execution_count": 13,
   "id": "c4b700bd",
   "metadata": {
    "execution": {
     "iopub.execute_input": "2024-11-16T02:54:42.484889Z",
     "iopub.status.busy": "2024-11-16T02:54:42.484458Z",
     "iopub.status.idle": "2024-11-16T02:54:43.585822Z",
     "shell.execute_reply": "2024-11-16T02:54:43.584457Z"
    },
    "papermill": {
     "duration": 1.120137,
     "end_time": "2024-11-16T02:54:43.588795",
     "exception": false,
     "start_time": "2024-11-16T02:54:42.468658",
     "status": "completed"
    },
    "tags": []
   },
   "outputs": [
    {
     "name": "stdout",
     "output_type": "stream",
     "text": [
      "This message likely originates from a **Buick-specific newsgroup**, such as:\n",
      "\n",
      "* **alt.autos.buick**\n",
      "* **rec.autos.buick**\n",
      "* **comp.sys.ibm.pc.buick** \n",
      "\n",
      "These groups were common in the days of Usenet, providing a forum for Buick owners to share information, ask questions, and discuss their cars. \n",
      "\n",
      "The message clearly shows the poster is seeking information about specific Buick Bonneville models and their value, indicating a strong interest in the brand. \n",
      "\n"
     ]
    }
   ],
   "source": [
    "# Ask the model directly in a zero-shot prompt.\n",
    "\n",
    "prompt = \"From what newsgroup does the following message originate?\"\n",
    "baseline_response = baseline_model.generate_content([prompt, sample_row])\n",
    "print(baseline_response.text)"
   ]
  },
  {
   "cell_type": "markdown",
   "id": "b05c730d",
   "metadata": {
    "papermill": {
     "duration": 0.015293,
     "end_time": "2024-11-16T02:54:43.619549",
     "exception": false,
     "start_time": "2024-11-16T02:54:43.604256",
     "status": "completed"
    },
    "tags": []
   },
   "source": [
    "That technique produces quite a verbose response. You could try and pick out the relevant text, or refine the prompt even further."
   ]
  },
  {
   "cell_type": "code",
   "execution_count": 14,
   "id": "980a0789",
   "metadata": {
    "execution": {
     "iopub.execute_input": "2024-11-16T02:54:43.650892Z",
     "iopub.status.busy": "2024-11-16T02:54:43.650470Z",
     "iopub.status.idle": "2024-11-16T02:54:44.059433Z",
     "shell.execute_reply": "2024-11-16T02:54:44.058113Z"
    },
    "papermill": {
     "duration": 0.427756,
     "end_time": "2024-11-16T02:54:44.062101",
     "exception": false,
     "start_time": "2024-11-16T02:54:43.634345",
     "status": "completed"
    },
    "tags": []
   },
   "outputs": [
    {
     "name": "stdout",
     "output_type": "stream",
     "text": [
      "rec.autos.pontiac\n",
      "\n",
      "Incorrect.\n"
     ]
    }
   ],
   "source": [
    "from google.api_core import retry\n",
    "\n",
    "# You can use a system instruction to do more direct prompting, and get a\n",
    "# more succinct answer.\n",
    "\n",
    "system_instruct = \"\"\"\n",
    "You are a classification service. You will be passed input that represents\n",
    "a newsgroup post and you must respond with the newsgroup from which the post\n",
    "originates.\n",
    "\"\"\"\n",
    "\n",
    "instructed_model = genai.GenerativeModel(\"gemini-1.5-flash-001\",\n",
    "                                         system_instruction=system_instruct)\n",
    "\n",
    "retry_policy = {\"retry\": retry.Retry(predicate=retry.if_transient_error)}\n",
    "\n",
    "# If you want to evaluate your own technique, replace this function with your\n",
    "# model, prompt and other code and return the predicted answer.\n",
    "def predict_label(post: str) -> str:\n",
    "    response = instructed_model.generate_content(post, request_options=retry_policy)\n",
    "    rc = response.candidates[0]\n",
    "\n",
    "    # Any errors, filters, recitation, etc we can mark as a general error\n",
    "    if rc.finish_reason.name != \"STOP\":\n",
    "        return \"(error)\"\n",
    "    else:\n",
    "        # Clean up the response.\n",
    "        return response.text.strip()\n",
    "\n",
    "\n",
    "prediction = predict_label(sample_row)\n",
    "\n",
    "print(prediction)\n",
    "print()\n",
    "print(\"Correct!\" if prediction == sample_label else \"Incorrect.\")"
   ]
  },
  {
   "cell_type": "markdown",
   "id": "52fdbdaf",
   "metadata": {
    "papermill": {
     "duration": 0.014435,
     "end_time": "2024-11-16T02:54:44.092226",
     "exception": false,
     "start_time": "2024-11-16T02:54:44.077791",
     "status": "completed"
    },
    "tags": []
   },
   "source": [
    "Now run a short evaluation using the function defined above. The test set is further sampled to ensure the experiment runs smoothly on the API's free tier. In practice you would evaluate over the whole set."
   ]
  },
  {
   "cell_type": "code",
   "execution_count": 15,
   "id": "47a92844",
   "metadata": {
    "execution": {
     "iopub.execute_input": "2024-11-16T02:54:44.127208Z",
     "iopub.status.busy": "2024-11-16T02:54:44.126696Z",
     "iopub.status.idle": "2024-11-16T02:55:59.823619Z",
     "shell.execute_reply": "2024-11-16T02:55:59.822127Z"
    },
    "papermill": {
     "duration": 75.717851,
     "end_time": "2024-11-16T02:55:59.826242",
     "exception": false,
     "start_time": "2024-11-16T02:54:44.108391",
     "status": "completed"
    },
    "tags": []
   },
   "outputs": [
    {
     "data": {
      "application/vnd.jupyter.widget-view+json": {
       "model_id": "780ef68fb2f44990b3b670062ad2a56d",
       "version_major": 2,
       "version_minor": 0
      },
      "text/plain": [
       "Output()"
      ]
     },
     "metadata": {},
     "output_type": "display_data"
    },
    {
     "name": "stderr",
     "output_type": "stream",
     "text": [
      "/opt/conda/lib/python3.10/site-packages/tqdm/std.py:885: TqdmExperimentalWarning: rich is experimental/alpha\n",
      "  t = cls(total=total, **tqdm_kwargs)\n"
     ]
    },
    {
     "data": {
      "text/html": [
       "<pre style=\"white-space:pre;overflow-x:auto;line-height:normal;font-family:Menlo,'DejaVu Sans Mono',consolas,'Courier New',monospace\"></pre>\n"
      ],
      "text/plain": []
     },
     "metadata": {},
     "output_type": "display_data"
    },
    {
     "data": {
      "text/html": [
       "<pre style=\"white-space:pre;overflow-x:auto;line-height:normal;font-family:Menlo,'DejaVu Sans Mono',consolas,'Courier New',monospace\">\n",
       "</pre>\n"
      ],
      "text/plain": [
       "\n"
      ]
     },
     "metadata": {},
     "output_type": "display_data"
    },
    {
     "name": "stdout",
     "output_type": "stream",
     "text": [
      "Accuracy: 0.00%\n"
     ]
    }
   ],
   "source": [
    "from tqdm.rich import tqdm\n",
    "\n",
    "tqdm.pandas()\n",
    "\n",
    "\n",
    "# Further sample the test data to be mindful of the free-tier quota.\n",
    "df_baseline_eval = sample_data(df_test, 2, '.*')\n",
    "\n",
    "# Make predictions using the sampled data.\n",
    "df_baseline_eval['Prediction'] = df_baseline_eval['Text'].progress_apply(predict_label)\n",
    "\n",
    "# And calculate the accuracy.\n",
    "accuracy = (df_baseline_eval[\"Class Name\"] == df_baseline_eval[\"Prediction\"]).sum() / len(df_baseline_eval)\n",
    "print(f\"Accuracy: {accuracy:.2%}\")"
   ]
  },
  {
   "cell_type": "markdown",
   "id": "5a13211e",
   "metadata": {
    "papermill": {
     "duration": 0.01877,
     "end_time": "2024-11-16T02:55:59.864121",
     "exception": false,
     "start_time": "2024-11-16T02:55:59.845351",
     "status": "completed"
    },
    "tags": []
   },
   "source": [
    "Now take a look at the dataframe to compare the predictions with the labels."
   ]
  },
  {
   "cell_type": "code",
   "execution_count": 16,
   "id": "666a8dea",
   "metadata": {
    "execution": {
     "iopub.execute_input": "2024-11-16T02:56:02.608641Z",
     "iopub.status.busy": "2024-11-16T02:56:02.608240Z",
     "iopub.status.idle": "2024-11-16T02:56:02.624218Z",
     "shell.execute_reply": "2024-11-16T02:56:02.622930Z"
    },
    "papermill": {
     "duration": 2.741543,
     "end_time": "2024-11-16T02:56:02.627737",
     "exception": false,
     "start_time": "2024-11-16T02:55:59.886194",
     "status": "completed"
    },
    "tags": []
   },
   "outputs": [
    {
     "data": {
      "text/html": [
       "<div>\n",
       "<style scoped>\n",
       "    .dataframe tbody tr th:only-of-type {\n",
       "        vertical-align: middle;\n",
       "    }\n",
       "\n",
       "    .dataframe tbody tr th {\n",
       "        vertical-align: top;\n",
       "    }\n",
       "\n",
       "    .dataframe thead th {\n",
       "        text-align: right;\n",
       "    }\n",
       "</style>\n",
       "<table border=\"1\" class=\"dataframe\">\n",
       "  <thead>\n",
       "    <tr style=\"text-align: right;\">\n",
       "      <th></th>\n",
       "      <th>Text</th>\n",
       "      <th>Label</th>\n",
       "      <th>Class Name</th>\n",
       "      <th>Prediction</th>\n",
       "    </tr>\n",
       "  </thead>\n",
       "  <tbody>\n",
       "    <tr>\n",
       "      <th>0</th>\n",
       "      <td>Re: Dirty Diesels?\\n\\nIn article &lt;&gt;,  (\"Erik V...</td>\n",
       "      <td>7</td>\n",
       "      <td>rec.autos</td>\n",
       "      <td>rec.autos.makers</td>\n",
       "    </tr>\n",
       "    <tr>\n",
       "      <th>1</th>\n",
       "      <td>Re: Drag Coefficients\\n\\nIn article &lt;&gt;  (Gary ...</td>\n",
       "      <td>7</td>\n",
       "      <td>rec.autos</td>\n",
       "      <td>rec.autos.misc</td>\n",
       "    </tr>\n",
       "    <tr>\n",
       "      <th>2</th>\n",
       "      <td>Re: dogs\\n\\n (Michael Heathman) writes:\\n\\n&gt;\\t...</td>\n",
       "      <td>8</td>\n",
       "      <td>rec.motorcycles</td>\n",
       "      <td>alt.animals.dogs</td>\n",
       "    </tr>\n",
       "    <tr>\n",
       "      <th>3</th>\n",
       "      <td>Re: Ok, So I was a little hasty...\\n\\nIn artic...</td>\n",
       "      <td>8</td>\n",
       "      <td>rec.motorcycles</td>\n",
       "      <td>rec.humor</td>\n",
       "    </tr>\n",
       "    <tr>\n",
       "      <th>4</th>\n",
       "      <td>Game Length (was Re: Braves Update!!\\n\\nIn art...</td>\n",
       "      <td>9</td>\n",
       "      <td>rec.sport.baseball</td>\n",
       "      <td>rec.sports.baseball</td>\n",
       "    </tr>\n",
       "    <tr>\n",
       "      <th>5</th>\n",
       "      <td>Re: Time of Game\\n\\nIn article &lt;&gt;  (Sherri Nic...</td>\n",
       "      <td>9</td>\n",
       "      <td>rec.sport.baseball</td>\n",
       "      <td>rec.sports.baseball</td>\n",
       "    </tr>\n",
       "    <tr>\n",
       "      <th>6</th>\n",
       "      <td>Re: Pens fans reactions\\n\\nIn article &lt;&gt;  (Sus...</td>\n",
       "      <td>10</td>\n",
       "      <td>rec.sport.hockey</td>\n",
       "      <td>rec.sports.hockey</td>\n",
       "    </tr>\n",
       "    <tr>\n",
       "      <th>7</th>\n",
       "      <td>Re: Don Cherry - help me out, here\\n\\nIn artic...</td>\n",
       "      <td>10</td>\n",
       "      <td>rec.sport.hockey</td>\n",
       "      <td>rec.sports.hockey</td>\n",
       "    </tr>\n",
       "    <tr>\n",
       "      <th>8</th>\n",
       "      <td>Re: Off the shelf cheap DES keyseach machine (...</td>\n",
       "      <td>11</td>\n",
       "      <td>sci.crypt</td>\n",
       "      <td>(error)</td>\n",
       "    </tr>\n",
       "    <tr>\n",
       "      <th>9</th>\n",
       "      <td>Re: Let's build software cryptophones for over...</td>\n",
       "      <td>11</td>\n",
       "      <td>sci.crypt</td>\n",
       "      <td>comp.dsp</td>\n",
       "    </tr>\n",
       "    <tr>\n",
       "      <th>10</th>\n",
       "      <td>Ranger2.0 shareware\\n\\n\\nHello.\\n\\n  The last ...</td>\n",
       "      <td>12</td>\n",
       "      <td>sci.electronics</td>\n",
       "      <td>comp.cad.electronics</td>\n",
       "    </tr>\n",
       "    <tr>\n",
       "      <th>11</th>\n",
       "      <td>Re: solvent for duct-tape adhesive?\\n\\n\\nAnoth...</td>\n",
       "      <td>12</td>\n",
       "      <td>sci.electronics</td>\n",
       "      <td>rec.crafts.misc</td>\n",
       "    </tr>\n",
       "    <tr>\n",
       "      <th>12</th>\n",
       "      <td>Re: Sumatripton (spelling?)\\n\\n[reply to ]\\n \\...</td>\n",
       "      <td>13</td>\n",
       "      <td>sci.med</td>\n",
       "      <td>alt.med.migraine</td>\n",
       "    </tr>\n",
       "    <tr>\n",
       "      <th>13</th>\n",
       "      <td>Re: Opinions on Allergy (Hay Fever) shots?\\n\\n...</td>\n",
       "      <td>13</td>\n",
       "      <td>sci.med</td>\n",
       "      <td>alt.support.allergies</td>\n",
       "    </tr>\n",
       "    <tr>\n",
       "      <th>14</th>\n",
       "      <td>Re: Abyss-breathing fluids\\n\\n\"The Forever War...</td>\n",
       "      <td>14</td>\n",
       "      <td>sci.space</td>\n",
       "      <td>rec.arts.sf.written</td>\n",
       "    </tr>\n",
       "    <tr>\n",
       "      <th>15</th>\n",
       "      <td>Re: HST Servicing Mission Scheduled for 11 Day...</td>\n",
       "      <td>14</td>\n",
       "      <td>sci.space</td>\n",
       "      <td>sci.space.shuttle</td>\n",
       "    </tr>\n",
       "  </tbody>\n",
       "</table>\n",
       "</div>"
      ],
      "text/plain": [
       "                                                 Text  Label  \\\n",
       "0   Re: Dirty Diesels?\\n\\nIn article <>,  (\"Erik V...      7   \n",
       "1   Re: Drag Coefficients\\n\\nIn article <>  (Gary ...      7   \n",
       "2   Re: dogs\\n\\n (Michael Heathman) writes:\\n\\n>\\t...      8   \n",
       "3   Re: Ok, So I was a little hasty...\\n\\nIn artic...      8   \n",
       "4   Game Length (was Re: Braves Update!!\\n\\nIn art...      9   \n",
       "5   Re: Time of Game\\n\\nIn article <>  (Sherri Nic...      9   \n",
       "6   Re: Pens fans reactions\\n\\nIn article <>  (Sus...     10   \n",
       "7   Re: Don Cherry - help me out, here\\n\\nIn artic...     10   \n",
       "8   Re: Off the shelf cheap DES keyseach machine (...     11   \n",
       "9   Re: Let's build software cryptophones for over...     11   \n",
       "10  Ranger2.0 shareware\\n\\n\\nHello.\\n\\n  The last ...     12   \n",
       "11  Re: solvent for duct-tape adhesive?\\n\\n\\nAnoth...     12   \n",
       "12  Re: Sumatripton (spelling?)\\n\\n[reply to ]\\n \\...     13   \n",
       "13  Re: Opinions on Allergy (Hay Fever) shots?\\n\\n...     13   \n",
       "14  Re: Abyss-breathing fluids\\n\\n\"The Forever War...     14   \n",
       "15  Re: HST Servicing Mission Scheduled for 11 Day...     14   \n",
       "\n",
       "            Class Name             Prediction  \n",
       "0            rec.autos       rec.autos.makers  \n",
       "1            rec.autos         rec.autos.misc  \n",
       "2      rec.motorcycles       alt.animals.dogs  \n",
       "3      rec.motorcycles              rec.humor  \n",
       "4   rec.sport.baseball    rec.sports.baseball  \n",
       "5   rec.sport.baseball    rec.sports.baseball  \n",
       "6     rec.sport.hockey      rec.sports.hockey  \n",
       "7     rec.sport.hockey      rec.sports.hockey  \n",
       "8            sci.crypt                (error)  \n",
       "9            sci.crypt               comp.dsp  \n",
       "10     sci.electronics   comp.cad.electronics  \n",
       "11     sci.electronics        rec.crafts.misc  \n",
       "12             sci.med       alt.med.migraine  \n",
       "13             sci.med  alt.support.allergies  \n",
       "14           sci.space    rec.arts.sf.written  \n",
       "15           sci.space      sci.space.shuttle  "
      ]
     },
     "execution_count": 16,
     "metadata": {},
     "output_type": "execute_result"
    }
   ],
   "source": [
    "df_baseline_eval"
   ]
  },
  {
   "cell_type": "markdown",
   "id": "7286a917",
   "metadata": {
    "id": "Ok7ugrLzcghX",
    "papermill": {
     "duration": 0.01691,
     "end_time": "2024-11-16T02:56:02.661620",
     "exception": false,
     "start_time": "2024-11-16T02:56:02.644710",
     "status": "completed"
    },
    "tags": []
   },
   "source": [
    "## Tune a custom model\n",
    "\n",
    "In this example you'll use tuning to help create a model that requires no prompting or system instructions and outputs succinct text from the classes you provide in the training data.\n",
    "\n",
    "The data contains both input text (the processed posts) and output text (the category, or newsgroup), which you can use to start tuning a model.\n",
    "\n",
    "The Python SDK for tuning supports Pandas dataframes as input, so you don't need any custom data generators or pipelines. Just specify the input and the relevant columns as the `input_key` and `output_key`.\n",
    "\n",
    "When calling `create_tuned_model`, you can specify model tuning hyperparameters too:\n",
    " - `epoch_count`: defines how many times to loop through the data,\n",
    " - `batch_size`: defines how many rows to process in a single step, and\n",
    " - `learning_rate`: defines the scaling factor for updating model weights at each step.\n",
    "\n",
    "You can also choose to omit them and use the defaults. [Learn more](https://developers.google.com/machine-learning/crash-course/linear-regression/hyperparameters) about these parameters and how they work. For this example these parameters were selected by running some tuning jobs and selecting parameters that were both effective and quick."
   ]
  },
  {
   "cell_type": "code",
   "execution_count": 17,
   "id": "e09755fb",
   "metadata": {
    "execution": {
     "iopub.execute_input": "2024-11-16T02:56:02.696256Z",
     "iopub.status.busy": "2024-11-16T02:56:02.695711Z",
     "iopub.status.idle": "2024-11-16T02:56:03.532556Z",
     "shell.execute_reply": "2024-11-16T02:56:03.531145Z"
    },
    "id": "pWOZlspfY8dV",
    "papermill": {
     "duration": 0.857313,
     "end_time": "2024-11-16T02:56:03.535091",
     "exception": false,
     "start_time": "2024-11-16T02:56:02.677778",
     "status": "completed"
    },
    "tags": []
   },
   "outputs": [
    {
     "name": "stdout",
     "output_type": "stream",
     "text": [
      "newsgroup-classifier-28752\n"
     ]
    }
   ],
   "source": [
    "from collections.abc import Iterable\n",
    "import random\n",
    "\n",
    "\n",
    "# Append a random number to the model ID so you can re-run with a higher chance\n",
    "# of creating a unique model ID.\n",
    "model_id = f\"newsgroup-classifier-{random.randint(10000, 99999)}\"\n",
    "\n",
    "# Upload the training data and queue the tuning job.\n",
    "tuning_op = genai.create_tuned_model(\n",
    "    \"models/gemini-1.5-flash-001-tuning\",\n",
    "    training_data=df_train,\n",
    "    input_key=\"Text\",  # the column to use as input\n",
    "    output_key=\"Class Name\",  # the column to use as output\n",
    "    id=model_id,\n",
    "    display_name=\"Newsgroup classification model\",\n",
    "    batch_size=16,\n",
    "    epoch_count=2,\n",
    ")\n",
    "\n",
    "print(model_id)"
   ]
  },
  {
   "cell_type": "markdown",
   "id": "80e4152f",
   "metadata": {
    "id": "NQ3YZ2MBubCY",
    "papermill": {
     "duration": 0.015916,
     "end_time": "2024-11-16T02:56:03.567076",
     "exception": false,
     "start_time": "2024-11-16T02:56:03.551160",
     "status": "completed"
    },
    "tags": []
   },
   "source": [
    "This has created a tuning job that will run in the background. To inspect the progress of the tuning job, run this cell to plot the current status and loss curve. Once the status reaches `ACTIVE`, tuning is complete and the model is ready to use.\n",
    "\n",
    "Tuning jobs are queued, so it may look like no training steps have been taken initially but it will progress. Tuning can take upwards of 20 minutes, depending on factors like your dataset size and how busy the tuning infrastrature is. Why not treat yourself to a nice cup of tea while you wait, or come and say \"Hi!\" to [yours truly](https://discord.com/users/132124213132787712) in the group [Discord](https://discord.com/invite/kaggle).\n",
    "\n",
    "It is safe to stop this cell at any point. It will not stop the tuning job."
   ]
  },
  {
   "cell_type": "code",
   "execution_count": 18,
   "id": "1c0c47a2",
   "metadata": {
    "execution": {
     "iopub.execute_input": "2024-11-16T02:56:03.601691Z",
     "iopub.status.busy": "2024-11-16T02:56:03.601224Z",
     "iopub.status.idle": "2024-11-16T03:01:06.664432Z",
     "shell.execute_reply": "2024-11-16T03:01:06.663119Z"
    },
    "id": "c4ef5f13692d",
    "papermill": {
     "duration": 303.084065,
     "end_time": "2024-11-16T03:01:06.667608",
     "exception": false,
     "start_time": "2024-11-16T02:56:03.583543",
     "status": "completed"
    },
    "tags": []
   },
   "outputs": [
    {
     "name": "stdout",
     "output_type": "stream",
     "text": [
      "State.CREATING\n",
      "State.CREATING\n",
      "State.CREATING\n",
      "State.CREATING\n",
      "State.CREATING\n",
      "Done! The model is ACTIVE\n"
     ]
    },
    {
     "name": "stderr",
     "output_type": "stream",
     "text": [
      "/opt/conda/lib/python3.10/site-packages/seaborn/_oldcore.py:1119: FutureWarning: use_inf_as_na option is deprecated and will be removed in a future version. Convert inf values to NaN before operating instead.\n",
      "  with pd.option_context('mode.use_inf_as_na', True):\n",
      "/opt/conda/lib/python3.10/site-packages/seaborn/_oldcore.py:1119: FutureWarning: use_inf_as_na option is deprecated and will be removed in a future version. Convert inf values to NaN before operating instead.\n",
      "  with pd.option_context('mode.use_inf_as_na', True):\n"
     ]
    },
    {
     "data": {
      "text/plain": [
       "<Axes: xlabel='step', ylabel='mean_loss'>"
      ]
     },
     "execution_count": 18,
     "metadata": {},
     "output_type": "execute_result"
    },
    {
     "data": {
      "image/png": "[encoded data removed]",
      "text/plain": [
       "<Figure size 640x480 with 1 Axes>"
      ]
     },
     "metadata": {},
     "output_type": "display_data"
    }
   ],
   "source": [
    "import time\n",
    "import seaborn as sns\n",
    "\n",
    "\n",
    "while (tuned_model := genai.get_tuned_model(f\"tunedModels/{model_id}\")).state.name != 'ACTIVE':\n",
    "\n",
    "    print(tuned_model.state)\n",
    "    time.sleep(60)\n",
    "\n",
    "print(f\"Done! The model is {tuned_model.state.name}\")\n",
    "\n",
    "# Plot the loss curve.\n",
    "snapshots = pd.DataFrame(tuned_model.tuning_task.snapshots)\n",
    "sns.lineplot(data=snapshots, x=\"step\", y=\"mean_loss\")\n"
   ]
  },
  {
   "cell_type": "markdown",
   "id": "7329f69f",
   "metadata": {
    "id": "9-qiIdK4u80z",
    "papermill": {
     "duration": 0.017273,
     "end_time": "2024-11-16T03:01:06.703382",
     "exception": false,
     "start_time": "2024-11-16T03:01:06.686109",
     "status": "completed"
    },
    "tags": []
   },
   "source": [
    "Note that the `seaborn` module may output warnings containing `FutureWarning: use_inf_as_na option is deprecated`. These are expected and can be ignored."
   ]
  },
  {
   "cell_type": "markdown",
   "id": "55ba3a1c",
   "metadata": {
    "id": "9-qiIdK4u80z",
    "papermill": {
     "duration": 0.016915,
     "end_time": "2024-11-16T03:01:06.737689",
     "exception": false,
     "start_time": "2024-11-16T03:01:06.720774",
     "status": "completed"
    },
    "tags": []
   },
   "source": [
    "## Use the new model\n",
    "\n",
    "Now that you have a tuned model, try it out with custom data. You use the same API as a normal Gemini API interaction, but you specify your new model as the model name, using the `tunedModels/` prefix."
   ]
  },
  {
   "cell_type": "code",
   "execution_count": 19,
   "id": "e5ffffe8",
   "metadata": {
    "execution": {
     "iopub.execute_input": "2024-11-16T03:01:06.774898Z",
     "iopub.status.busy": "2024-11-16T03:01:06.774173Z",
     "iopub.status.idle": "2024-11-16T03:01:14.785556Z",
     "shell.execute_reply": "2024-11-16T03:01:14.784303Z"
    },
    "id": "hyO2-MXLvM6a",
    "papermill": {
     "duration": 8.03287,
     "end_time": "2024-11-16T03:01:14.788010",
     "exception": false,
     "start_time": "2024-11-16T03:01:06.755140",
     "status": "completed"
    },
    "tags": []
   },
   "outputs": [
    {
     "name": "stdout",
     "output_type": "stream",
     "text": [
      "sci.space\n"
     ]
    }
   ],
   "source": [
    "your_model = genai.GenerativeModel(f\"tunedModels/{model_id}\")\n",
    "\n",
    "new_text = \"\"\"\n",
    "First-timer looking to get out of here.\n",
    "\n",
    "Hi, I'm writing about my interest in travelling to the outer limits!\n",
    "\n",
    "What kind of craft can I buy? What is easiest to access from this 3rd rock?\n",
    "\n",
    "Let me know how to do that please.\n",
    "\"\"\"\n",
    "\n",
    "response = your_model.generate_content(new_text)\n",
    "print(response.text)"
   ]
  },
  {
   "cell_type": "markdown",
   "id": "b9e26c29",
   "metadata": {
    "id": "xajLek9DySH_",
    "papermill": {
     "duration": 0.019803,
     "end_time": "2024-11-16T03:01:14.825562",
     "exception": false,
     "start_time": "2024-11-16T03:01:14.805759",
     "status": "completed"
    },
    "tags": []
   },
   "source": [
    "### Evaluation\n",
    "\n",
    "You can see that the model outputs labels that correspond to those in the training data, and without any system instructions or prompting, which is already a great improvement. Now see how well it performs on the test set.\n",
    "\n",
    "Note that there is no parallelism in this example; classifying the test sub-set will take a few minutes."
   ]
  },
  {
   "cell_type": "code",
   "execution_count": 20,
   "id": "cd23294e",
   "metadata": {
    "execution": {
     "iopub.execute_input": "2024-11-16T03:01:14.863435Z",
     "iopub.status.busy": "2024-11-16T03:01:14.862912Z",
     "iopub.status.idle": "2024-11-16T03:02:55.845137Z",
     "shell.execute_reply": "2024-11-16T03:02:55.843771Z"
    },
    "id": "6T2Y3ZApvbMw",
    "papermill": {
     "duration": 101.004881,
     "end_time": "2024-11-16T03:02:55.848004",
     "exception": false,
     "start_time": "2024-11-16T03:01:14.843123",
     "status": "completed"
    },
    "tags": []
   },
   "outputs": [
    {
     "data": {
      "application/vnd.jupyter.widget-view+json": {
       "model_id": "9260a26970624f43a51cdd88498550fd",
       "version_major": 2,
       "version_minor": 0
      },
      "text/plain": [
       "Output()"
      ]
     },
     "metadata": {},
     "output_type": "display_data"
    },
    {
     "name": "stderr",
     "output_type": "stream",
     "text": [
      "/opt/conda/lib/python3.10/site-packages/tqdm/std.py:885: TqdmExperimentalWarning: rich is experimental/alpha\n",
      "  t = cls(total=total, **tqdm_kwargs)\n"
     ]
    },
    {
     "data": {
      "text/html": [
       "<pre style=\"white-space:pre;overflow-x:auto;line-height:normal;font-family:Menlo,'DejaVu Sans Mono',consolas,'Courier New',monospace\"></pre>\n"
      ],
      "text/plain": []
     },
     "metadata": {},
     "output_type": "display_data"
    },
    {
     "data": {
      "text/html": [
       "<pre style=\"white-space:pre;overflow-x:auto;line-height:normal;font-family:Menlo,'DejaVu Sans Mono',consolas,'Courier New',monospace\">\n",
       "</pre>\n"
      ],
      "text/plain": [
       "\n"
      ]
     },
     "metadata": {},
     "output_type": "display_data"
    },
    {
     "name": "stdout",
     "output_type": "stream",
     "text": [
      "Accuracy: 93.75%\n"
     ]
    }
   ],
   "source": [
    "def classify_text(text: str) -> str:\n",
    "    \"\"\"Classify the provided text into a known newsgroup.\"\"\"\n",
    "    response = your_model.generate_content(text, request_options=retry_policy)\n",
    "    rc = response.candidates[0]\n",
    "\n",
    "    # Any errors, filters, recitation, etc we can mark as a general error\n",
    "    if rc.finish_reason.name != \"STOP\":\n",
    "        return \"(error)\"\n",
    "    else:\n",
    "        return rc.content.parts[0].text\n",
    "\n",
    "\n",
    "# The sampling here is just to minimise your quota usage. If you can, you should\n",
    "# evaluate the whole test set with `df_model_eval = df_test.copy()`.\n",
    "df_model_eval = sample_data(df_test, 4, '.*')\n",
    "\n",
    "\n",
    "df_model_eval[\"Prediction\"] = df_model_eval[\"Text\"].progress_apply(classify_text)\n",
    "\n",
    "accuracy = (df_model_eval[\"Class Name\"] == df_model_eval[\"Prediction\"]).sum() / len(df_model_eval)\n",
    "print(f\"Accuracy: {accuracy:.2%}\")"
   ]
  },
  {
   "cell_type": "markdown",
   "id": "962f65d3",
   "metadata": {
    "papermill": {
     "duration": 0.021205,
     "end_time": "2024-11-16T03:02:55.892259",
     "exception": false,
     "start_time": "2024-11-16T03:02:55.871054",
     "status": "completed"
    },
    "tags": []
   },
   "source": [
    "## Compare token usage\n",
    "\n",
    "AI Studio and the Gemini API provide model tuning at no cost, however normal limits and charges apply for *use* of a tuned model.\n",
    "\n",
    "The size of the input prompt and other generation config like system instructions, as well as the number of generated output tokens, all contribute to the overall cost of a request."
   ]
  },
  {
   "cell_type": "code",
   "execution_count": 21,
   "id": "fae6de3a",
   "metadata": {
    "execution": {
     "iopub.execute_input": "2024-11-16T03:02:59.377845Z",
     "iopub.status.busy": "2024-11-16T03:02:59.377495Z",
     "iopub.status.idle": "2024-11-16T03:02:59.734398Z",
     "shell.execute_reply": "2024-11-16T03:02:59.732732Z"
    },
    "papermill": {
     "duration": 3.823231,
     "end_time": "2024-11-16T03:02:59.737219",
     "exception": false,
     "start_time": "2024-11-16T03:02:55.913988",
     "status": "completed"
    },
    "tags": []
   },
   "outputs": [
    {
     "name": "stdout",
     "output_type": "stream",
     "text": [
      "System instructed baseline model: 171 (input)\n",
      "Tuned model: 135 (input)\n",
      "Token savings: 26.67%\n"
     ]
    }
   ],
   "source": [
    "# Calculate the *input* cost of the baseline model with system instructions.\n",
    "sysint_tokens = instructed_model.count_tokens(sample_row).total_tokens\n",
    "print(f'System instructed baseline model: {sysint_tokens} (input)')\n",
    "\n",
    "# Calculate the input cost of the tuned model.\n",
    "tuned_tokens = your_model.count_tokens(sample_row).total_tokens\n",
    "print(f'Tuned model: {tuned_tokens} (input)')\n",
    "\n",
    "savings = (sysint_tokens - tuned_tokens) / tuned_tokens\n",
    "print(f'Token savings: {savings:.2%}')  # Note that this is only n=1."
   ]
  },
  {
   "cell_type": "markdown",
   "id": "06f50a35",
   "metadata": {
    "papermill": {
     "duration": 0.018176,
     "end_time": "2024-11-16T03:02:59.774309",
     "exception": false,
     "start_time": "2024-11-16T03:02:59.756133",
     "status": "completed"
    },
    "tags": []
   },
   "source": [
    "The earlier verbose model also produced more output tokens than needed for this task."
   ]
  },
  {
   "cell_type": "code",
   "execution_count": 22,
   "id": "cc64834e",
   "metadata": {
    "execution": {
     "iopub.execute_input": "2024-11-16T03:02:59.812881Z",
     "iopub.status.busy": "2024-11-16T03:02:59.812417Z",
     "iopub.status.idle": "2024-11-16T03:03:00.684395Z",
     "shell.execute_reply": "2024-11-16T03:03:00.682946Z"
    },
    "papermill": {
     "duration": 0.894579,
     "end_time": "2024-11-16T03:03:00.687282",
     "exception": false,
     "start_time": "2024-11-16T03:02:59.792703",
     "status": "completed"
    },
    "tags": []
   },
   "outputs": [
    {
     "name": "stdout",
     "output_type": "stream",
     "text": [
      "Baseline (verbose) output tokens: 110\n",
      "Tuned output tokens: 4\n"
     ]
    }
   ],
   "source": [
    "baseline_token_output = baseline_response.usage_metadata.candidates_token_count\n",
    "print('Baseline (verbose) output tokens:', baseline_token_output)\n",
    "\n",
    "tuned_model_output = your_model.generate_content(sample_row)\n",
    "tuned_tokens_output = tuned_model_output.usage_metadata.candidates_token_count\n",
    "print('Tuned output tokens:', tuned_tokens_output)"
   ]
  },
  {
   "cell_type": "markdown",
   "id": "5674f497",
   "metadata": {
    "id": "6c1204a5d0ab",
    "papermill": {
     "duration": 0.018306,
     "end_time": "2024-11-16T03:03:00.725123",
     "exception": false,
     "start_time": "2024-11-16T03:03:00.706817",
     "status": "completed"
    },
    "tags": []
   },
   "source": [
    "## Next steps\n",
    "\n",
    "Now that you have tuned a classification model, try some other tasks, like tuning a model to respond with a specific tone or style using hand-written examples (or even generated examples!). Kaggle hosts [a number of datasets](https://www.kaggle.com/datasets) you can try out.\n",
    "\n",
    "Learn about [when supervised fine-tuning is most effective](https://cloud.google.com/blog/products/ai-machine-learning/supervised-fine-tuning-for-gemini-llm).\n",
    "\n",
    "And check out the [fine-tuning tutorial](https://ai.google.dev/gemini-api/docs/model-tuning/tutorial?hl=en&lang=python) for another example that shows a tuned model extending beyond the training data to new, unseen inputs."
   ]
  }
 ],
 "metadata": {
  "colab": {
   "name": "day-4-fine-tuning-a-custom-model.ipynb",
   "toc_visible": true
  },
  "kaggle": {
   "accelerator": "none",
   "dataSources": [],
   "dockerImageVersionId": 30786,
   "isGpuEnabled": false,
   "isInternetEnabled": true,
   "language": "python",
   "sourceType": "notebook"
  },
  "kernelspec": {
   "display_name": "Python 3",
   "language": "python",
   "name": "python3"
  },
  "language_info": {
   "codemirror_mode": {
    "name": "ipython",
    "version": 3
   },
   "file_extension": ".py",
   "mimetype": "text/x-python",
   "name": "python",
   "nbconvert_exporter": "python",
   "pygments_lexer": "ipython3",
   "version": "3.10.14"
  },
  "papermill": {
   "default_parameters": {},
   "duration": 565.630812,
   "end_time": "2024-11-16T03:03:01.668593",
   "environment_variables": {},
   "exception": null,
   "input_path": "__notebook__.ipynb",
   "output_path": "__notebook__.ipynb",
   "parameters": {},
   "start_time": "2024-11-16T02:53:36.037781",
   "version": "2.6.0"
  },
  "widgets": {
   "application/vnd.jupyter.widget-state+json": {
    "state": {
     "08d592cd5d5945faad15f442073b285b": {
      "model_module": "@jupyter-widgets/base",
      "model_module_version": "1.2.0",
      "model_name": "LayoutModel",
      "state": {
       "_model_module": "@jupyter-widgets/base",
       "_model_module_version": "1.2.0",
       "_model_name": "LayoutModel",
       "_view_count": null,
       "_view_module": "@jupyter-widgets/base",
       "_view_module_version": "1.2.0",
       "_view_name": "LayoutView",
       "align_content": null,
       "align_items": null,
       "align_self": null,
       "border": null,
       "bottom": null,
       "display": null,
       "flex": null,
       "flex_flow": null,
       "grid_area": null,
       "grid_auto_columns": null,
       "grid_auto_flow": null,
       "grid_auto_rows": null,
       "grid_column": null,
       "grid_gap": null,
       "grid_row": null,
       "grid_template_areas": null,
       "grid_template_columns": null,
       "grid_template_rows": null,
       "height": null,
       "justify_content": null,
       "justify_items": null,
       "left": null,
       "margin": null,
       "max_height": null,
       "max_width": null,
       "min_height": null,
       "min_width": null,
       "object_fit": null,
       "object_position": null,
       "order": null,
       "overflow": null,
       "overflow_x": null,
       "overflow_y": null,
       "padding": null,
       "right": null,
       "top": null,
       "visibility": null,
       "width": null
      }
     },
     "22196d191bf54de1a0600f691ca4eab6": {
      "model_module": "@jupyter-widgets/base",
      "model_module_version": "1.2.0",
      "model_name": "LayoutModel",
      "state": {
       "_model_module": "@jupyter-widgets/base",
       "_model_module_version": "1.2.0",
       "_model_name": "LayoutModel",
       "_view_count": null,
       "_view_module": "@jupyter-widgets/base",
       "_view_module_version": "1.2.0",
       "_view_name": "LayoutView",
       "align_content": null,
       "align_items": null,
       "align_self": null,
       "border": null,
       "bottom": null,
       "display": null,
       "flex": null,
       "flex_flow": null,
       "grid_area": null,
       "grid_auto_columns": null,
       "grid_auto_flow": null,
       "grid_auto_rows": null,
       "grid_column": null,
       "grid_gap": null,
       "grid_row": null,
       "grid_template_areas": null,
       "grid_template_columns": null,
       "grid_template_rows": null,
       "height": null,
       "justify_content": null,
       "justify_items": null,
       "left": null,
       "margin": null,
       "max_height": null,
       "max_width": null,
       "min_height": null,
       "min_width": null,
       "object_fit": null,
       "object_position": null,
       "order": null,
       "overflow": null,
       "overflow_x": null,
       "overflow_y": null,
       "padding": null,
       "right": null,
       "top": null,
       "visibility": null,
       "width": null
      }
     },
     "780ef68fb2f44990b3b670062ad2a56d": {
      "model_module": "@jupyter-widgets/output",
      "model_module_version": "1.0.0",
      "model_name": "OutputModel",
      "state": {
       "_dom_classes": [],
       "_model_module": "@jupyter-widgets/output",
       "_model_module_version": "1.0.0",
       "_model_name": "OutputModel",
       "_view_count": null,
       "_view_module": "@jupyter-widgets/output",
       "_view_module_version": "1.0.0",
       "_view_name": "OutputView",
       "layout": "IPY_MODEL_08d592cd5d5945faad15f442073b285b",
       "msg_id": "",
       "outputs": [
        {
         "data": {
          "text/html": "<pre style=\"white-space:pre;overflow-x:auto;line-height:normal;font-family:Menlo,'DejaVu Sans Mono',consolas,'Courier New',monospace\"><span style=\"color: #800080; text-decoration-color: #800080\"> 100%</span> <span style=\"color: #729c1f; text-decoration-color: #729c1f\">━━━━━━━━━━━━━━━━━━━━━━━━━━━━━━━━━━━━━━━━━━━━━━━━━━━━━━━━━━━━━━━━━━━━━━━</span> <span style=\"color: #008000; text-decoration-color: #008000\">16/16 </span> [ <span style=\"color: #808000; text-decoration-color: #808000\">0:01:15</span> &lt; <span style=\"color: #008080; text-decoration-color: #008080\">0:00:00</span> , <span style=\"color: #800000; text-decoration-color: #800000\">? it/s</span> ]\n</pre>\n",
          "text/plain": "\u001b[35m 100%\u001b[0m \u001b[38;2;114;156;31m━━━━━━━━━━━━━━━━━━━━━━━━━━━━━━━━━━━━━━━━━━━━━━━━━━━━━━━━━━━━━━━━━━━━━━━\u001b[0m \u001b[32m16/16 \u001b[0m [ \u001b[33m0:01:15\u001b[0m < \u001b[36m0:00:00\u001b[0m , \u001b[31m? it/s\u001b[0m ]\n"
         },
         "metadata": {},
         "output_type": "display_data"
        }
       ]
      }
     },
     "9260a26970624f43a51cdd88498550fd": {
      "model_module": "@jupyter-widgets/output",
      "model_module_version": "1.0.0",
      "model_name": "OutputModel",
      "state": {
       "_dom_classes": [],
       "_model_module": "@jupyter-widgets/output",
       "_model_module_version": "1.0.0",
       "_model_name": "OutputModel",
       "_view_count": null,
       "_view_module": "@jupyter-widgets/output",
       "_view_module_version": "1.0.0",
       "_view_name": "OutputView",
       "layout": "IPY_MODEL_22196d191bf54de1a0600f691ca4eab6",
       "msg_id": "",
       "outputs": [
        {
         "data": {
          "text/html": "<pre style=\"white-space:pre;overflow-x:auto;line-height:normal;font-family:Menlo,'DejaVu Sans Mono',consolas,'Courier New',monospace\"><span style=\"color: #800080; text-decoration-color: #800080\"> 100%</span> <span style=\"color: #729c1f; text-decoration-color: #729c1f\">━━━━━━━━━━━━━━━━━━━━━━━━━━━━━━━━━━━━━━━━━━━━━━━━━━━━━━━━━━━━━━━━━━━━━━━</span> <span style=\"color: #008000; text-decoration-color: #008000\">32/32 </span> [ <span style=\"color: #808000; text-decoration-color: #808000\">0:01:40</span> &lt; <span style=\"color: #008080; text-decoration-color: #008080\">0:00:00</span> , <span style=\"color: #800000; text-decoration-color: #800000\">0 it/s</span> ]\n</pre>\n",
          "text/plain": "\u001b[35m 100%\u001b[0m \u001b[38;2;114;156;31m━━━━━━━━━━━━━━━━━━━━━━━━━━━━━━━━━━━━━━━━━━━━━━━━━━━━━━━━━━━━━━━━━━━━━━━\u001b[0m \u001b[32m32/32 \u001b[0m [ \u001b[33m0:01:40\u001b[0m < \u001b[36m0:00:00\u001b[0m , \u001b[31m0 it/s\u001b[0m ]\n"
         },
         "metadata": {},
         "output_type": "display_data"
        }
       ]
      }
     }
    },
    "version_major": 2,
    "version_minor": 0
   }
  }
 },
 "nbformat": 4,
 "nbformat_minor": 5
}
