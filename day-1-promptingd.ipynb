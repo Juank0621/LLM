{
 "cells": [
  {
   "cell_type": "markdown",
   "id": "05477c5d",
   "metadata": {
    "id": "jkxRSYjzA1oX",
    "papermill": {
     "duration": 0.020021,
     "end_time": "2024-11-13T03:04:28.647420",
     "exception": false,
     "start_time": "2024-11-13T03:04:28.627399",
     "status": "completed"
    },
    "tags": []
   },
   "source": [
    "##### Copyright 2024 Google LLC."
   ]
  },
  {
   "cell_type": "code",
   "execution_count": 1,
   "id": "56d950e6",
   "metadata": {
    "cellView": "form",
    "execution": {
     "iopub.execute_input": "2024-11-13T03:04:28.691697Z",
     "iopub.status.busy": "2024-11-13T03:04:28.691245Z",
     "iopub.status.idle": "2024-11-13T03:04:28.698380Z",
     "shell.execute_reply": "2024-11-13T03:04:28.697170Z"
    },
    "id": "5u5OZ2ShA3BA",
    "papermill": {
     "duration": 0.031141,
     "end_time": "2024-11-13T03:04:28.700982",
     "exception": false,
     "start_time": "2024-11-13T03:04:28.669841",
     "status": "completed"
    },
    "tags": []
   },
   "outputs": [],
   "source": [
    "# @title Licensed under the Apache License, Version 2.0 (the \"License\");\n",
    "# you may not use this file except in compliance with the License.\n",
    "# You may obtain a copy of the License at\n",
    "#\n",
    "# https://www.apache.org/licenses/LICENSE-2.0\n",
    "#\n",
    "# Unless required by applicable law or agreed to in writing, software\n",
    "# distributed under the License is distributed on an \"AS IS\" BASIS,\n",
    "# WITHOUT WARRANTIES OR CONDITIONS OF ANY KIND, either express or implied.\n",
    "# See the License for the specific language governing permissions and\n",
    "# limitations under the License."
   ]
  },
  {
   "cell_type": "markdown",
   "id": "04b3f237",
   "metadata": {
    "id": "csNPnkuCobmG",
    "papermill": {
     "duration": 0.018223,
     "end_time": "2024-11-13T03:04:28.737775",
     "exception": false,
     "start_time": "2024-11-13T03:04:28.719552",
     "status": "completed"
    },
    "tags": []
   },
   "source": [
    "# Day 1 - Prompting\n",
    "\n",
    "Welcome to the Kaggle 5-day Generative AI course!\n",
    "\n",
    "This notebook will show you how to get started with the Gemini API and walk you through some of the example prompts and techniques that you can also read about in the Prompting whitepaper. You don't need to read the whitepaper to use this notebook, but the papers will give you some theoretical context and background to complement this interactive notebook.\n",
    "\n",
    "\n",
    "## Before you begin\n",
    "\n",
    "In this notebook, you'll start exploring prompts and prompt parameters using the Python SDK and AI Studio. For some inspiration, you might enjoy exploring some apps that have been built using the Gemini family of models. Here are a few that we like, and we think you will too.\n",
    "\n",
    "* [TextFX](https://textfx.withgoogle.com/) is a suite of AI-powered tools for rappers, made in collaboration with Lupe Fiasco,\n",
    "* [SQL Talk](https://sql-talk-r5gdynozbq-uc.a.run.app/) shows how you can talk directly to a database using the Gemini API,\n",
    "* [NotebookLM](https://notebooklm.google/) uses Gemini models to build your own personal AI research assistant.\n",
    "\n",
    "\n",
    "## For help\n",
    "\n",
    "**Common issues are covered in the [FAQ and troubleshooting guide](https://www.kaggle.com/code/markishere/day-0-troubleshooting-and-faqs).**\n",
    "\n",
    "### A note on the Gemini API and Vertex AI\n",
    "\n",
    "In the whitepapers, most of the example code uses the Enterprise [Vertex AI platform](https://cloud.google.com/vertex-ai). In contrast, this notebook, along with the others in this series, will use the [Gemini Developer API](https://ai.google.dev/gemini-api/) and [AI Studio](https://aistudio.google.com/).\n",
    "\n",
    "Both APIs provide access to the Gemini family of models, and the code to interact with the models is very similar. Vertex provides a world-class platform for enterprises, governments and advanced users that need powerful features like data governance, ML ops and deep Google Cloud integration.\n",
    "\n",
    "AI Studio is free to use and only requires a compatible Google account to log in and get started. It is deeply integrated with the Gemini API, which comes with a generous [free tier](https://ai.google.dev/pricing) that you can use to run the code in these exercises.\n",
    "\n",
    "If you are already set up with Google Cloud, you can check out the [Enterprise Gemini API](https://cloud.google.com/vertex-ai/generative-ai/docs/model-reference/inference) through Vertex AI, and run the samples directly from the supplied whitepapers."
   ]
  },
  {
   "attachments": {
    "d8299597-f771-4195-ac94-1d6f658ef2bd.png": {
     "image/png": "[encoded data removed]"
    },
    "ed25e346-2e15-4ab0-bc22-503eb1845e66.png": {
     "image/png": "[encoded data removed]"
    }
   },
   "cell_type": "markdown",
   "id": "9b4b57b5",
   "metadata": {
    "id": "f00ea7c99e44",
    "papermill": {
     "duration": 0.018135,
     "end_time": "2024-11-13T03:04:28.775229",
     "exception": false,
     "start_time": "2024-11-13T03:04:28.757094",
     "status": "completed"
    },
    "tags": []
   },
   "source": [
    "## Get started with Kaggle notebooks\n",
    "\n",
    "If this is your first time using a Kaggle notebook, welcome! You can read about how to use Kaggle notebooks [in the docs](https://www.kaggle.com/docs/notebooks).\n",
    "\n",
    "First, you will need to phone verify your account at kaggle.com/settings.\n",
    "\n",
    "![](https://storage.googleapis.com/kaggle-media/Images/5dgai_0.png)"
   ]
  },
  {
   "cell_type": "markdown",
   "id": "14a5b75d",
   "metadata": {
    "papermill": {
     "duration": 0.018288,
     "end_time": "2024-11-13T03:04:28.812290",
     "exception": false,
     "start_time": "2024-11-13T03:04:28.794002",
     "status": "completed"
    },
    "tags": []
   },
   "source": [
    "To run this notebook, as well as the others in this course, you will need to make a copy, or fork, the notebook. Look for the `Copy and Edit` button in the top-right, and **click it** to make an editable, private copy of the notebook. It should look like this one:\n",
    "\n",
    "![Copy and Edit button](https://storage.googleapis.com/kaggle-media/Images/5gdai_sc_1.png)\n",
    "\n",
    "Your copy will now have a ▶️ **Run** button next to each code cell that you can press to execute that cell. These notebooks are expected to be run in order from top-to-bottom, but you are encouraged to add new cells, run your own code and explore. If you get stuck, you can try the `Factory reset` option in the `Run` menu, or head back to the original notebook and make a fresh copy.\n",
    "\n",
    "![Run cell button](https://storage.googleapis.com/kaggle-media/Images/5gdai_sc_2.png)\n",
    "\n",
    "### Problems?\n",
    "\n",
    "If you have any problems, head over to the [Kaggle Discord](https://discord.com/invite/kaggle), find the [`#5dgai-q-and-a` channel](https://discord.com/channels/1101210829807956100/1303438695143178251) and ask for help."
   ]
  },
  {
   "cell_type": "markdown",
   "id": "845f218f",
   "metadata": {
    "id": "ExkOXcPxtTb5",
    "papermill": {
     "duration": 0.018013,
     "end_time": "2024-11-13T03:04:28.848813",
     "exception": false,
     "start_time": "2024-11-13T03:04:28.830800",
     "status": "completed"
    },
    "tags": []
   },
   "source": [
    "## Get started with the Gemini API\n",
    "\n",
    "All of the exercises in this notebook will use the [Gemini API](https://ai.google.dev/gemini-api/) by way of the [Python SDK](https://pypi.org/project/google-generativeai/). Each of these prompts can be accessed directly in [Google AI Studio](https://aistudio.google.com/) too, so if you would rather use a web interface and skip the code for this activity, look for the <img src=\"https://ai.google.dev/site-assets/images/marketing/home/icon-ais.png\" style=\"height: 24px\" height=24/> AI Studio link on each prompt."
   ]
  },
  {
   "cell_type": "markdown",
   "id": "40b75f7f",
   "metadata": {
    "papermill": {
     "duration": 0.018107,
     "end_time": "2024-11-13T03:04:28.885263",
     "exception": false,
     "start_time": "2024-11-13T03:04:28.867156",
     "status": "completed"
    },
    "tags": []
   },
   "source": [
    "Next, you will need to add your API key to your Kaggle Notebook as a Kaggle User Secret.\n",
    "\n",
    "![](https://storage.googleapis.com/kaggle-media/Images/5dgai_1.png)\n",
    "![](https://storage.googleapis.com/kaggle-media/Images/5dgai_2.png)\n",
    "![](https://storage.googleapis.com/kaggle-media/Images/5dgai_3.png)\n",
    "![](https://storage.googleapis.com/kaggle-media/Images/5dgai_4.png)"
   ]
  },
  {
   "cell_type": "markdown",
   "id": "aecd10c8",
   "metadata": {
    "id": "UAjUV3BsvFXQ",
    "papermill": {
     "duration": 0.018088,
     "end_time": "2024-11-13T03:04:28.921712",
     "exception": false,
     "start_time": "2024-11-13T03:04:28.903624",
     "status": "completed"
    },
    "tags": []
   },
   "source": [
    "### Install the SDK"
   ]
  },
  {
   "cell_type": "code",
   "execution_count": 2,
   "id": "f441fb4c",
   "metadata": {
    "execution": {
     "iopub.execute_input": "2024-11-13T03:04:28.960288Z",
     "iopub.status.busy": "2024-11-13T03:04:28.959530Z",
     "iopub.status.idle": "2024-11-13T03:04:59.127339Z",
     "shell.execute_reply": "2024-11-13T03:04:59.125875Z"
    },
    "id": "NzwzJFU9LqkJ",
    "papermill": {
     "duration": 30.209436,
     "end_time": "2024-11-13T03:04:59.149353",
     "exception": false,
     "start_time": "2024-11-13T03:04:28.939917",
     "status": "completed"
    },
    "tags": []
   },
   "outputs": [
    {
     "name": "stdout",
     "output_type": "stream",
     "text": [
      "Note: you may need to restart the kernel to use updated packages.\n"
     ]
    }
   ],
   "source": [
    "%pip install -U -q \"google-generativeai>=0.8.3\""
   ]
  },
  {
   "cell_type": "code",
   "execution_count": 3,
   "id": "9947d4a4",
   "metadata": {
    "execution": {
     "iopub.execute_input": "2024-11-13T03:04:59.188784Z",
     "iopub.status.busy": "2024-11-13T03:04:59.187897Z",
     "iopub.status.idle": "2024-11-13T03:05:00.314584Z",
     "shell.execute_reply": "2024-11-13T03:05:00.313580Z"
    },
    "id": "5DwxYIRavMST",
    "papermill": {
     "duration": 1.149284,
     "end_time": "2024-11-13T03:05:00.317194",
     "exception": false,
     "start_time": "2024-11-13T03:04:59.167910",
     "status": "completed"
    },
    "tags": []
   },
   "outputs": [],
   "source": [
    "import google.generativeai as genai\n",
    "from IPython.display import HTML, Markdown, display"
   ]
  },
  {
   "cell_type": "markdown",
   "id": "8b5b1474",
   "metadata": {
    "id": "DNEt2BCOvOJ1",
    "papermill": {
     "duration": 0.018075,
     "end_time": "2024-11-13T03:05:00.353631",
     "exception": false,
     "start_time": "2024-11-13T03:05:00.335556",
     "status": "completed"
    },
    "tags": []
   },
   "source": [
    "### Set up your API key\n",
    "\n",
    "To run the following cell, your API key must be stored it in a [Kaggle secret](https://www.kaggle.com/discussions/product-feedback/114053) named `GOOGLE_API_KEY`.\n",
    "\n",
    "If you don't already have an API key, you can grab one from [AI Studio](https://aistudio.google.com/app/apikey). You can find [detailed instructions in the docs](https://ai.google.dev/gemini-api/docs/api-key).\n",
    "\n",
    "To make the key available through Kaggle secrets, choose `Secrets` from the `Add-ons` menu and follow the instructions to add your key or enable it for this notebook."
   ]
  },
  {
   "cell_type": "code",
   "execution_count": 4,
   "id": "677298fc",
   "metadata": {
    "execution": {
     "iopub.execute_input": "2024-11-13T03:05:00.392549Z",
     "iopub.status.busy": "2024-11-13T03:05:00.391713Z",
     "iopub.status.idle": "2024-11-13T03:05:00.542867Z",
     "shell.execute_reply": "2024-11-13T03:05:00.541734Z"
    },
    "id": "SHl0bkPCvayd",
    "papermill": {
     "duration": 0.173722,
     "end_time": "2024-11-13T03:05:00.545697",
     "exception": false,
     "start_time": "2024-11-13T03:05:00.371975",
     "status": "completed"
    },
    "tags": []
   },
   "outputs": [],
   "source": [
    "from kaggle_secrets import UserSecretsClient\n",
    "\n",
    "GOOGLE_API_KEY = UserSecretsClient().get_secret(\"GOOGLE_API_KEY\")\n",
    "genai.configure(api_key=GOOGLE_API_KEY)"
   ]
  },
  {
   "attachments": {
    "d2be9aab-2527-48af-b6cf-1f06cdd7c3a7.png": {
     "image/png": "[encoded data removed]"
    }
   },
   "cell_type": "markdown",
   "id": "d279d884",
   "metadata": {
    "id": "4e720472fd86",
    "papermill": {
     "duration": 0.018036,
     "end_time": "2024-11-13T03:05:00.582226",
     "exception": false,
     "start_time": "2024-11-13T03:05:00.564190",
     "status": "completed"
    },
    "tags": []
   },
   "source": [
    "If you received an error response along the lines of `No user secrets exist for kernel id ...`, then you need to add your API key via `Add-ons`, `Secrets` **and** enable it.\n",
    "\n",
    "![Screenshot of the checkbox to enable GOOGLE_API_KEY secret](https://storage.googleapis.com/kaggle-media/Images/5gdai_sc_3.png)"
   ]
  },
  {
   "cell_type": "markdown",
   "id": "c452d903",
   "metadata": {
    "id": "H_YXCYIKvyZJ",
    "papermill": {
     "duration": 0.017996,
     "end_time": "2024-11-13T03:05:00.618510",
     "exception": false,
     "start_time": "2024-11-13T03:05:00.600514",
     "status": "completed"
    },
    "tags": []
   },
   "source": [
    "### Run your first prompt\n",
    "\n",
    "In this step, you will test that your API key is set up correctly by making a request. The `gemini-1.5-flash` model has been selected here."
   ]
  },
  {
   "cell_type": "code",
   "execution_count": 5,
   "id": "db2241a2",
   "metadata": {
    "execution": {
     "iopub.execute_input": "2024-11-13T03:05:00.657252Z",
     "iopub.status.busy": "2024-11-13T03:05:00.656449Z",
     "iopub.status.idle": "2024-11-13T03:05:02.046523Z",
     "shell.execute_reply": "2024-11-13T03:05:02.045154Z"
    },
    "id": "BV1o0PmcvyJF",
    "papermill": {
     "duration": 1.412605,
     "end_time": "2024-11-13T03:05:02.049393",
     "exception": false,
     "start_time": "2024-11-13T03:05:00.636788",
     "status": "completed"
    },
    "tags": []
   },
   "outputs": [
    {
     "name": "stdout",
     "output_type": "stream",
     "text": [
      "Imagine you have a really smart robot friend named AI. AI can learn things just like you! \n",
      "\n",
      "You learn by reading books, going to school, and talking to people. AI learns by looking at lots and lots of information, like pictures, videos, and text. \n",
      "\n",
      "For example, you can teach AI to recognize a dog by showing it lots of pictures of dogs.  The more pictures AI sees, the better it gets at knowing what a dog looks like. \n",
      "\n",
      "AI can then use what it learned to do cool things like:\n",
      "\n",
      "* **Play games with you:** AI can learn how to play games like chess or video games.\n",
      "* **Answer your questions:** AI can learn about lots of different topics and answer your questions.\n",
      "* **Help you with your homework:** AI can help you understand difficult concepts by explaining things in a simple way. \n",
      "\n",
      "AI is still learning, but it's getting smarter every day! \n",
      "\n"
     ]
    }
   ],
   "source": [
    "flash = genai.GenerativeModel('gemini-1.5-flash')\n",
    "response = flash.generate_content(\"Explain AI to me like I'm a kid.\")\n",
    "print(response.text)"
   ]
  },
  {
   "cell_type": "markdown",
   "id": "09c0878c",
   "metadata": {
    "id": "f60ed9d8ae41",
    "papermill": {
     "duration": 0.018089,
     "end_time": "2024-11-13T03:05:02.086046",
     "exception": false,
     "start_time": "2024-11-13T03:05:02.067957",
     "status": "completed"
    },
    "tags": []
   },
   "source": [
    "The response often comes back in markdown format, which you can render directly in this notebook."
   ]
  },
  {
   "cell_type": "code",
   "execution_count": 6,
   "id": "26e22e48",
   "metadata": {
    "execution": {
     "iopub.execute_input": "2024-11-13T03:05:02.124635Z",
     "iopub.status.busy": "2024-11-13T03:05:02.124201Z",
     "iopub.status.idle": "2024-11-13T03:05:02.132593Z",
     "shell.execute_reply": "2024-11-13T03:05:02.131566Z"
    },
    "id": "c933e5e460a5",
    "papermill": {
     "duration": 0.030695,
     "end_time": "2024-11-13T03:05:02.135055",
     "exception": false,
     "start_time": "2024-11-13T03:05:02.104360",
     "status": "completed"
    },
    "tags": []
   },
   "outputs": [
    {
     "data": {
      "text/markdown": [
       "Imagine you have a really smart robot friend named AI. AI can learn things just like you! \n",
       "\n",
       "You learn by reading books, going to school, and talking to people. AI learns by looking at lots and lots of information, like pictures, videos, and text. \n",
       "\n",
       "For example, you can teach AI to recognize a dog by showing it lots of pictures of dogs.  The more pictures AI sees, the better it gets at knowing what a dog looks like. \n",
       "\n",
       "AI can then use what it learned to do cool things like:\n",
       "\n",
       "* **Play games with you:** AI can learn how to play games like chess or video games.\n",
       "* **Answer your questions:** AI can learn about lots of different topics and answer your questions.\n",
       "* **Help you with your homework:** AI can help you understand difficult concepts by explaining things in a simple way. \n",
       "\n",
       "AI is still learning, but it's getting smarter every day! \n"
      ],
      "text/plain": [
       "<IPython.core.display.Markdown object>"
      ]
     },
     "execution_count": 6,
     "metadata": {},
     "output_type": "execute_result"
    }
   ],
   "source": [
    "Markdown(response.text)"
   ]
  },
  {
   "cell_type": "markdown",
   "id": "2e5b1f22",
   "metadata": {
    "id": "byx0pT9ZMW2Q",
    "papermill": {
     "duration": 0.018315,
     "end_time": "2024-11-13T03:05:02.174007",
     "exception": false,
     "start_time": "2024-11-13T03:05:02.155692",
     "status": "completed"
    },
    "tags": []
   },
   "source": [
    "### Start a chat\n",
    "\n",
    "The previous example uses a single-turn, text-in/text-out structure, but you can also set up a multi-turn chat structure too."
   ]
  },
  {
   "cell_type": "code",
   "execution_count": 7,
   "id": "6371c4b0",
   "metadata": {
    "execution": {
     "iopub.execute_input": "2024-11-13T03:05:02.212856Z",
     "iopub.status.busy": "2024-11-13T03:05:02.212435Z",
     "iopub.status.idle": "2024-11-13T03:05:02.845947Z",
     "shell.execute_reply": "2024-11-13T03:05:02.844754Z"
    },
    "id": "lV_S5ZL5MidD",
    "papermill": {
     "duration": 0.656067,
     "end_time": "2024-11-13T03:05:02.848528",
     "exception": false,
     "start_time": "2024-11-13T03:05:02.192461",
     "status": "completed"
    },
    "tags": []
   },
   "outputs": [
    {
     "name": "stdout",
     "output_type": "stream",
     "text": [
      "Hello Zlork! 👋 It's nice to meet you.  What can I do for you today? 😊 \n",
      "\n"
     ]
    }
   ],
   "source": [
    "chat = flash.start_chat(history=[])\n",
    "response = chat.send_message('Hello! My name is Zlork.')\n",
    "print(response.text)"
   ]
  },
  {
   "cell_type": "code",
   "execution_count": 8,
   "id": "371a033e",
   "metadata": {
    "execution": {
     "iopub.execute_input": "2024-11-13T03:05:02.889458Z",
     "iopub.status.busy": "2024-11-13T03:05:02.888500Z",
     "iopub.status.idle": "2024-11-13T03:05:03.924295Z",
     "shell.execute_reply": "2024-11-13T03:05:03.922971Z"
    },
    "id": "7b0372c3c64a",
    "papermill": {
     "duration": 1.059228,
     "end_time": "2024-11-13T03:05:03.927093",
     "exception": false,
     "start_time": "2024-11-13T03:05:02.867865",
     "status": "completed"
    },
    "tags": []
   },
   "outputs": [
    {
     "name": "stdout",
     "output_type": "stream",
     "text": [
      "Okay, Zlork! Here's something interesting about dinosaurs: \n",
      "\n",
      "**Did you know that some dinosaurs had feathers?**  While we often picture dinosaurs as scaly, like lizards, many of them actually sported feathers.  Scientists have found evidence of feathers on a wide variety of dinosaur species, including the iconic Tyrannosaurus Rex!  These feathers were likely used for insulation, display, and even flight in some cases.  \n",
      "\n",
      "Isn't that cool?  What other questions do you have about dinosaurs? 🦖 \n",
      "\n"
     ]
    }
   ],
   "source": [
    "response = chat.send_message('Can you tell something interesting about dinosaurs?')\n",
    "print(response.text)"
   ]
  },
  {
   "cell_type": "code",
   "execution_count": 9,
   "id": "98bfdf3b",
   "metadata": {
    "execution": {
     "iopub.execute_input": "2024-11-13T03:05:03.967991Z",
     "iopub.status.busy": "2024-11-13T03:05:03.967581Z",
     "iopub.status.idle": "2024-11-13T03:05:04.440868Z",
     "shell.execute_reply": "2024-11-13T03:05:04.439685Z"
    },
    "id": "d3f9591392a7",
    "papermill": {
     "duration": 0.496966,
     "end_time": "2024-11-13T03:05:04.443538",
     "exception": false,
     "start_time": "2024-11-13T03:05:03.946572",
     "status": "completed"
    },
    "tags": []
   },
   "outputs": [
    {
     "name": "stdout",
     "output_type": "stream",
     "text": [
      "Of course, I remember!  Your name is Zlork. 😊 It's nice to chat with you! \n",
      "\n"
     ]
    }
   ],
   "source": [
    "# While you have the `chat` object around, the conversation state\n",
    "# persists. Confirm that by asking if it knows my name.\n",
    "response = chat.send_message('Do you remember what my name is?')\n",
    "print(response.text)"
   ]
  },
  {
   "cell_type": "markdown",
   "id": "63079666",
   "metadata": {
    "id": "2KAjpr1200sW",
    "papermill": {
     "duration": 0.019431,
     "end_time": "2024-11-13T03:05:04.482295",
     "exception": false,
     "start_time": "2024-11-13T03:05:04.462864",
     "status": "completed"
    },
    "tags": []
   },
   "source": [
    "### Choose a model\n",
    "\n",
    "The Gemini API provides access to a number of models from the Gemini model family. Read about the available models and their capabilities on the [model overview page](https://ai.google.dev/gemini-api/docs/models/gemini).\n",
    "\n",
    "In this step you'll use the API to list all of the available models."
   ]
  },
  {
   "cell_type": "code",
   "execution_count": 10,
   "id": "868598c2",
   "metadata": {
    "execution": {
     "iopub.execute_input": "2024-11-13T03:05:04.522308Z",
     "iopub.status.busy": "2024-11-13T03:05:04.521874Z",
     "iopub.status.idle": "2024-11-13T03:05:04.659748Z",
     "shell.execute_reply": "2024-11-13T03:05:04.658606Z"
    },
    "id": "uUUZa2uq2jDm",
    "papermill": {
     "duration": 0.161436,
     "end_time": "2024-11-13T03:05:04.662889",
     "exception": false,
     "start_time": "2024-11-13T03:05:04.501453",
     "status": "completed"
    },
    "tags": []
   },
   "outputs": [
    {
     "name": "stdout",
     "output_type": "stream",
     "text": [
      "models/chat-bison-001\n",
      "models/text-bison-001\n",
      "models/embedding-gecko-001\n",
      "models/gemini-1.0-pro-latest\n",
      "models/gemini-1.0-pro\n",
      "models/gemini-pro\n",
      "models/gemini-1.0-pro-001\n",
      "models/gemini-1.0-pro-vision-latest\n",
      "models/gemini-pro-vision\n",
      "models/gemini-1.5-pro-latest\n",
      "models/gemini-1.5-pro-001\n",
      "models/gemini-1.5-pro-002\n",
      "models/gemini-1.5-pro\n",
      "models/gemini-1.5-pro-exp-0801\n",
      "models/gemini-1.5-pro-exp-0827\n",
      "models/gemini-1.5-flash-latest\n",
      "models/gemini-1.5-flash-001\n",
      "models/gemini-1.5-flash-001-tuning\n",
      "models/gemini-1.5-flash\n",
      "models/gemini-1.5-flash-exp-0827\n",
      "models/gemini-1.5-flash-002\n",
      "models/gemini-1.5-flash-8b\n",
      "models/gemini-1.5-flash-8b-001\n",
      "models/gemini-1.5-flash-8b-latest\n",
      "models/gemini-1.5-flash-8b-exp-0827\n",
      "models/gemini-1.5-flash-8b-exp-0924\n",
      "models/embedding-001\n",
      "models/text-embedding-004\n",
      "models/aqa\n"
     ]
    }
   ],
   "source": [
    "for model in genai.list_models():\n",
    "  print(model.name)"
   ]
  },
  {
   "cell_type": "markdown",
   "id": "8d3de5f9",
   "metadata": {
    "id": "rN49kSI54R1v",
    "papermill": {
     "duration": 0.019187,
     "end_time": "2024-11-13T03:05:04.701790",
     "exception": false,
     "start_time": "2024-11-13T03:05:04.682603",
     "status": "completed"
    },
    "tags": []
   },
   "source": [
    "The [`models.list`](https://ai.google.dev/api/models#method:-models.list) response also returns additional information about the model's capabilities, like the token limits and supported parameters."
   ]
  },
  {
   "cell_type": "code",
   "execution_count": 11,
   "id": "791da0a2",
   "metadata": {
    "execution": {
     "iopub.execute_input": "2024-11-13T03:05:04.742579Z",
     "iopub.status.busy": "2024-11-13T03:05:04.742147Z",
     "iopub.status.idle": "2024-11-13T03:05:05.047446Z",
     "shell.execute_reply": "2024-11-13T03:05:05.046366Z"
    },
    "id": "k7JJ1K6j4Rl8",
    "papermill": {
     "duration": 0.328637,
     "end_time": "2024-11-13T03:05:05.050205",
     "exception": false,
     "start_time": "2024-11-13T03:05:04.721568",
     "status": "completed"
    },
    "tags": []
   },
   "outputs": [
    {
     "name": "stdout",
     "output_type": "stream",
     "text": [
      "Model(name='models/gemini-1.5-flash',\n",
      "      base_model_id='',\n",
      "      version='001',\n",
      "      display_name='Gemini 1.5 Flash',\n",
      "      description='Fast and versatile multimodal model for scaling across diverse tasks',\n",
      "      input_token_limit=1000000,\n",
      "      output_token_limit=8192,\n",
      "      supported_generation_methods=['generateContent', 'countTokens'],\n",
      "      temperature=1.0,\n",
      "      max_temperature=2.0,\n",
      "      top_p=0.95,\n",
      "      top_k=40)\n"
     ]
    }
   ],
   "source": [
    "for model in genai.list_models():\n",
    "  if model.name == 'models/gemini-1.5-flash':\n",
    "    print(model)\n",
    "    break"
   ]
  },
  {
   "cell_type": "markdown",
   "id": "51bc6d5a",
   "metadata": {
    "id": "5rU_UBlZdooM",
    "papermill": {
     "duration": 0.019181,
     "end_time": "2024-11-13T03:05:05.089035",
     "exception": false,
     "start_time": "2024-11-13T03:05:05.069854",
     "status": "completed"
    },
    "tags": []
   },
   "source": [
    "## Explore generation parameters\n",
    "\n"
   ]
  },
  {
   "cell_type": "markdown",
   "id": "4fa4bef1",
   "metadata": {
    "id": "G7NfEizeipbW",
    "papermill": {
     "duration": 0.019046,
     "end_time": "2024-11-13T03:05:05.127252",
     "exception": false,
     "start_time": "2024-11-13T03:05:05.108206",
     "status": "completed"
    },
    "tags": []
   },
   "source": [
    "### Output length\n",
    "\n",
    "When generating text with an LLM, the output length affects cost and performance. Generating more tokens increases computation, leading to higher energy consumption, latency, and cost.\n",
    "\n",
    "To stop the model from generating tokens past a limit, you can specify the `max_output_tokens` parameter when using the Gemini API. Specifying this parameter does not influence the generation of the output tokens, so the output will not become more stylistically or textually succinct, but it will stop generating tokens once the specified length is reached. Prompt engineering may be required to generate a more complete output for your given limit."
   ]
  },
  {
   "cell_type": "code",
   "execution_count": 12,
   "id": "c97a8416",
   "metadata": {
    "execution": {
     "iopub.execute_input": "2024-11-13T03:05:05.169964Z",
     "iopub.status.busy": "2024-11-13T03:05:05.169195Z",
     "iopub.status.idle": "2024-11-13T03:05:06.388721Z",
     "shell.execute_reply": "2024-11-13T03:05:06.387600Z"
    },
    "id": "qVf23JsIi9ma",
    "papermill": {
     "duration": 1.244861,
     "end_time": "2024-11-13T03:05:06.391427",
     "exception": false,
     "start_time": "2024-11-13T03:05:05.146566",
     "status": "completed"
    },
    "tags": []
   },
   "outputs": [
    {
     "name": "stdout",
     "output_type": "stream",
     "text": [
      "## More Than Just a Snack: The Enduring Importance of Olives in Modern Society\n",
      "\n",
      "The olive, a seemingly simple fruit, has played a vital role in human civilization for millennia. Its enduring presence in our culinary traditions, cultural heritage, and economic landscape speaks volumes about its continued relevance. From ancient Greece to contemporary kitchens, the olive has transcended its status as a mere food source to become a symbol of sustenance, prosperity, and cultural identity. This essay delves into the multifaceted importance of olives in modern society, exploring its diverse applications, its impact on economies, and its role in preserving traditions and shaping culinary trends.\n",
      "\n",
      "Firstly, the olive's culinary versatility is undeniable. Its unique flavor profile, ranging from briny and bitter to buttery and sweet, has made it a staple in countless cuisines worldwide. Its versatility extends beyond its inherent taste, allowing it to be consumed in myriad ways. From the classic Greek Kalamata olive, enjoyed for its meaty texture and intense flavor, to the delicate\n"
     ]
    }
   ],
   "source": [
    "short_model = genai.GenerativeModel(\n",
    "    'gemini-1.5-flash',\n",
    "    generation_config=genai.GenerationConfig(max_output_tokens=200))\n",
    "\n",
    "response = short_model.generate_content('Write a 1000 word essay on the importance of olives in modern society.')\n",
    "print(response.text)"
   ]
  },
  {
   "cell_type": "code",
   "execution_count": 13,
   "id": "e39ab741",
   "metadata": {
    "execution": {
     "iopub.execute_input": "2024-11-13T03:05:06.432559Z",
     "iopub.status.busy": "2024-11-13T03:05:06.432110Z",
     "iopub.status.idle": "2024-11-13T03:05:07.544144Z",
     "shell.execute_reply": "2024-11-13T03:05:07.542963Z"
    },
    "id": "W-3kR2F5kdMR",
    "papermill": {
     "duration": 1.135632,
     "end_time": "2024-11-13T03:05:07.546773",
     "exception": false,
     "start_time": "2024-11-13T03:05:06.411141",
     "status": "completed"
    },
    "tags": []
   },
   "outputs": [
    {
     "name": "stdout",
     "output_type": "stream",
     "text": [
      "A humble fruit, a tiny sphere,\n",
      "Yet on our plates, it holds us dear.\n",
      "From ancient groves to modern shelves,\n",
      "The olive reigns, it feeds itself.\n",
      "\n",
      "In salads green, in oils so bright,\n",
      "It adds a taste, a savory light.\n",
      "On pizzas hot, in breads so warm,\n",
      "It brings a touch, a gentle storm.\n",
      "\n",
      "From tapenade to soaps so pure,\n",
      "The olive's gifts, forever sure.\n",
      "A symbol of peace, a timeless grace,\n",
      "Its bounty shared, in every place. \n",
      "\n"
     ]
    }
   ],
   "source": [
    "response = short_model.generate_content('Write a short poem on the importance of olives in modern society.')\n",
    "print(response.text)"
   ]
  },
  {
   "cell_type": "markdown",
   "id": "5c1827fe",
   "metadata": {
    "id": "3ZhDSLB6lqqB",
    "papermill": {
     "duration": 0.019729,
     "end_time": "2024-11-13T03:05:07.587394",
     "exception": false,
     "start_time": "2024-11-13T03:05:07.567665",
     "status": "completed"
    },
    "tags": []
   },
   "source": [
    "Explore with your own prompts. Try a prompt with a restrictive output limit and then adjust the prompt to work within that limit."
   ]
  },
  {
   "cell_type": "markdown",
   "id": "97187acd",
   "metadata": {
    "id": "alx-WaAvir_9",
    "papermill": {
     "duration": 0.019423,
     "end_time": "2024-11-13T03:05:07.626551",
     "exception": false,
     "start_time": "2024-11-13T03:05:07.607128",
     "status": "completed"
    },
    "tags": []
   },
   "source": [
    "### Temperature\n",
    "\n",
    "Temperature controls the degree of randomness in token selection. Higher temperatures result in a higher number of candidate tokens from which the next output token is selected, and can produce more diverse results, while lower temperatures have the opposite effect, such that a temperature of 0 results in greedy decoding, selecting the most probable token at each step.\n",
    "\n",
    "Temperature doesn't provide any guarantees of randomness, but it can be used to \"nudge\" the output somewhat.\n",
    "\n",
    "**Note that if you see a 429 Resource Exhausted error here, you may be able to tweak the prompt slightly to progress.**"
   ]
  },
  {
   "cell_type": "code",
   "execution_count": 14,
   "id": "c7345b6a",
   "metadata": {
    "execution": {
     "iopub.execute_input": "2024-11-13T03:05:07.668373Z",
     "iopub.status.busy": "2024-11-13T03:05:07.667066Z",
     "iopub.status.idle": "2024-11-13T03:05:09.461500Z",
     "shell.execute_reply": "2024-11-13T03:05:09.459967Z"
    },
    "id": "SHraGMzqnZqt",
    "papermill": {
     "duration": 1.817959,
     "end_time": "2024-11-13T03:05:09.464165",
     "exception": false,
     "start_time": "2024-11-13T03:05:07.646206",
     "status": "completed"
    },
    "tags": []
   },
   "outputs": [
    {
     "name": "stdout",
     "output_type": "stream",
     "text": [
      "Teal. \n",
      " -------------------------\n",
      "Blue \n",
      " -------------------------\n",
      "Teal \n",
      " -------------------------\n",
      "Indigo \n",
      " -------------------------\n",
      "Purple \n",
      " -------------------------\n"
     ]
    }
   ],
   "source": [
    "from google.api_core import retry\n",
    "import time\n",
    "\n",
    "high_temp_model = genai.GenerativeModel(\n",
    "    'gemini-1.5-flash',\n",
    "    generation_config=genai.GenerationConfig(temperature=2.0))\n",
    "\n",
    "\n",
    "# When running lots of queries, it's a good practice to use a retry policy so your code\n",
    "# automatically retries when hitting Resource Exhausted (quota limit) errors.\n",
    "retry_policy = {\n",
    "    \"retry\": retry.Retry(predicate=retry.if_transient_error, initial=10, multiplier=1.5, timeout=300)\n",
    "}\n",
    "\n",
    "for _ in range(5):\n",
    "  response = high_temp_model.generate_content('Pick a random colour... (respond in a single word)',\n",
    "                                              request_options=retry_policy)\n",
    "  if response.parts:\n",
    "    print(response.text, '-' * 25)\n",
    "      \n",
    "# time.sleep(20)"
   ]
  },
  {
   "cell_type": "markdown",
   "id": "55f8c525",
   "metadata": {
    "id": "z3J4pCTuof7e",
    "papermill": {
     "duration": 0.020365,
     "end_time": "2024-11-13T03:05:09.505066",
     "exception": false,
     "start_time": "2024-11-13T03:05:09.484701",
     "status": "completed"
    },
    "tags": []
   },
   "source": [
    "Now try the same prompt with temperature set to zero. Note that the output is not completely deterministic, as other parameters affect token selection, but the results will tend to be more stable."
   ]
  },
  {
   "cell_type": "code",
   "execution_count": 15,
   "id": "2397044f",
   "metadata": {
    "execution": {
     "iopub.execute_input": "2024-11-13T03:05:09.547127Z",
     "iopub.status.busy": "2024-11-13T03:05:09.546688Z",
     "iopub.status.idle": "2024-11-13T03:05:11.273192Z",
     "shell.execute_reply": "2024-11-13T03:05:11.271972Z"
    },
    "id": "clymkWv-PfUZ",
    "papermill": {
     "duration": 1.750611,
     "end_time": "2024-11-13T03:05:11.275873",
     "exception": false,
     "start_time": "2024-11-13T03:05:09.525262",
     "status": "completed"
    },
    "tags": []
   },
   "outputs": [
    {
     "name": "stdout",
     "output_type": "stream",
     "text": [
      "Purple \n",
      " -------------------------\n",
      "Purple \n",
      " -------------------------\n",
      "Purple \n",
      " -------------------------\n",
      "Purple \n",
      " -------------------------\n",
      "Purple \n",
      " -------------------------\n"
     ]
    }
   ],
   "source": [
    "low_temp_model = genai.GenerativeModel(\n",
    "    'gemini-1.5-flash',\n",
    "    generation_config=genai.GenerationConfig(temperature=0.0))\n",
    "\n",
    "for _ in range(5):\n",
    "  response = low_temp_model.generate_content('Pick a random colour... (respond in a single word)',\n",
    "                                             request_options=retry_policy)\n",
    "  if response.parts:\n",
    "    print(response.text, '-' * 25)"
   ]
  },
  {
   "cell_type": "markdown",
   "id": "c43763e7",
   "metadata": {
    "id": "St5nt3vzitsZ",
    "papermill": {
     "duration": 0.020394,
     "end_time": "2024-11-13T03:05:11.317162",
     "exception": false,
     "start_time": "2024-11-13T03:05:11.296768",
     "status": "completed"
    },
    "tags": []
   },
   "source": [
    "### Top-K and top-P\n",
    "\n",
    "Like temperature, top-K and top-P parameters are also used to control the diversity of the model's output.\n",
    "\n",
    "Top-K is a positive integer that defines the number of most probable tokens from which to select the output token. A top-K of 1 selects a single token, performing greedy decoding.\n",
    "\n",
    "Top-P defines the probability threshold that, once cumulatively exceeded, tokens stop being selected as candidates. A top-P of 0 is typically equivalent to greedy decoding, and a top-P of 1 typically selects every token in the model's vocabulary.\n",
    "\n",
    "When both are supplied, the Gemini API will filter top-K tokens first, then top-P and then finally sample from the candidate tokens using the supplied temperature.\n",
    "\n",
    "Run this example a number of times, change the settings and observe the change in output."
   ]
  },
  {
   "cell_type": "code",
   "execution_count": 16,
   "id": "f48ae6d2",
   "metadata": {
    "execution": {
     "iopub.execute_input": "2024-11-13T03:05:11.360051Z",
     "iopub.status.busy": "2024-11-13T03:05:11.359621Z",
     "iopub.status.idle": "2024-11-13T03:05:13.987769Z",
     "shell.execute_reply": "2024-11-13T03:05:13.986286Z"
    },
    "id": "lPlzpEavUV8F",
    "papermill": {
     "duration": 2.652406,
     "end_time": "2024-11-13T03:05:13.990252",
     "exception": false,
     "start_time": "2024-11-13T03:05:11.337846",
     "status": "completed"
    },
    "tags": []
   },
   "outputs": [
    {
     "name": "stdout",
     "output_type": "stream",
     "text": [
      "Bartholomew wasn't your average house cat. While his brethren spent their days napping in sunbeams and chasing dust bunnies, Bartholomew dreamt of grand adventures. He longed to explore the world beyond his back garden, to feel the wind in his whiskers and the sun on his fur as he climbed to the highest heights.\n",
      "\n",
      "One day, a particularly curious butterfly, wings a dazzling shade of blue, fluttered past his window. Bartholomew, captivated, leaped onto the windowsill, his green eyes following the insect. The butterfly, as if sensing his desire, led him on a daring chase, flitting through the garden, over the fence, and into the sprawling meadow beyond.\n",
      "\n",
      "The meadow was a wonderland for Bartholomew. Wildflowers swayed in the breeze, their scents intoxicating. He stalked plump bumblebees, chased a family of rabbits, and even met a grumpy badger who sniffed him with disapproval. Bartholomew was in his element, every instinct alive with the thrill of discovery.\n",
      "\n",
      "As dusk descended, the meadow began to echo with strange sounds. Bartholomew, realizing he was far from home, panicked. He scampered up a tall oak, its branches offering a breathtaking view of the setting sun. From his perch, he saw the familiar glow of his house, a beacon in the distance.\n",
      "\n",
      "With newfound determination, Bartholomew leaped from the oak, his paws finding purchase on the ground. He raced through the meadow, the moon guiding his way. He crossed paths with the grumpy badger again, who this time, with a surprising tenderness, nudged him in the right direction.\n",
      "\n",
      "Finally, after a long and tiring journey, Bartholomew reached his garden. He jumped over the fence, his heart pounding with exhaustion and exhilaration. His human, a kind old woman with twinkling eyes, scooped him up, her voice soothing.\n",
      "\n",
      "That night, nestled in his cozy bed, Bartholomew closed his eyes, replaying the adventure in his mind. He had discovered the world beyond his garden, and he had returned home, a changed cat. The butterfly, a symbol of his yearning for adventure, had led him on a journey that had filled him with a newfound appreciation for the simple joys of home. He was still Bartholomew, the house cat, but now he was also a cat who had touched the wild, a cat who had tasted freedom, a cat who had lived an adventure. \n",
      "\n"
     ]
    }
   ],
   "source": [
    "model = genai.GenerativeModel(\n",
    "    'gemini-1.5-flash-001',\n",
    "    generation_config=genai.GenerationConfig(\n",
    "        # These are the default values for gemini-1.5-flash-001.\n",
    "        temperature=1.0,\n",
    "        top_k=64,\n",
    "        top_p=0.95,\n",
    "    ))\n",
    "\n",
    "story_prompt = \"You are a creative writer. Write a short story about a cat who goes on an adventure.\"\n",
    "response = model.generate_content(story_prompt, request_options=retry_policy)\n",
    "print(response.text)"
   ]
  },
  {
   "cell_type": "markdown",
   "id": "da07fd99",
   "metadata": {
    "id": "rMrYs1koY6DX",
    "papermill": {
     "duration": 0.020591,
     "end_time": "2024-11-13T03:05:14.035824",
     "exception": false,
     "start_time": "2024-11-13T03:05:14.015233",
     "status": "completed"
    },
    "tags": []
   },
   "source": [
    "## Prompting\n",
    "\n",
    "This section contains some prompts from the chapter for you to try out directly in the API. Try changing the text here to see how each prompt performs with different instructions, more examples, or any other changes you can think of."
   ]
  },
  {
   "cell_type": "markdown",
   "id": "21b9cf98",
   "metadata": {
    "id": "hhj_tQidZJP7",
    "papermill": {
     "duration": 0.020461,
     "end_time": "2024-11-13T03:05:14.077006",
     "exception": false,
     "start_time": "2024-11-13T03:05:14.056545",
     "status": "completed"
    },
    "tags": []
   },
   "source": [
    "### Zero-shot\n",
    "\n",
    "Zero-shot prompts are prompts that describe the request for the model directly.\n",
    "\n",
    "<table align=left>\n",
    "  <td>\n",
    "    <a target=\"_blank\" href=\"https://aistudio.google.com/prompts/1gzKKgDHwkAvexG5Up0LMtl1-6jKMKe4g\"><img src=\"https://ai.google.dev/site-assets/images/marketing/home/icon-ais.png\" style=\"height: 24px\" height=24/> Open in AI Studio</a>\n",
    "  </td>\n",
    "</table>"
   ]
  },
  {
   "cell_type": "code",
   "execution_count": 17,
   "id": "73f1734d",
   "metadata": {
    "execution": {
     "iopub.execute_input": "2024-11-13T03:05:14.121778Z",
     "iopub.status.busy": "2024-11-13T03:05:14.120441Z",
     "iopub.status.idle": "2024-11-13T03:05:14.482527Z",
     "shell.execute_reply": "2024-11-13T03:05:14.481367Z"
    },
    "id": "1_t-cwnDZzbH",
    "papermill": {
     "duration": 0.387122,
     "end_time": "2024-11-13T03:05:14.485306",
     "exception": false,
     "start_time": "2024-11-13T03:05:14.098184",
     "status": "completed"
    },
    "tags": []
   },
   "outputs": [
    {
     "name": "stdout",
     "output_type": "stream",
     "text": [
      "Sentiment: **POSITIVE**\n"
     ]
    }
   ],
   "source": [
    "model = genai.GenerativeModel(\n",
    "    'gemini-1.5-flash-001',\n",
    "    generation_config=genai.GenerationConfig(\n",
    "        temperature=0.1,\n",
    "        top_p=1,\n",
    "        max_output_tokens=5,\n",
    "    ))\n",
    "\n",
    "zero_shot_prompt = \"\"\"Classify movie reviews as POSITIVE, NEUTRAL or NEGATIVE.\n",
    "Review: \"Her\" is a disturbing study revealing the direction\n",
    "humanity is headed if AI is allowed to keep evolving,\n",
    "unchecked. I wish there were more movies like this masterpiece.\n",
    "Sentiment: \"\"\"\n",
    "\n",
    "response = model.generate_content(zero_shot_prompt, request_options=retry_policy)\n",
    "print(response.text)"
   ]
  },
  {
   "cell_type": "markdown",
   "id": "947944ef",
   "metadata": {
    "id": "3b5568bdeb11",
    "papermill": {
     "duration": 0.020646,
     "end_time": "2024-11-13T03:05:14.527272",
     "exception": false,
     "start_time": "2024-11-13T03:05:14.506626",
     "status": "completed"
    },
    "tags": []
   },
   "source": [
    "#### Enum mode\n",
    "\n",
    "The models are trained to generate text, and can sometimes produce more text than you may wish for. In the preceding example, the model will output the label, sometimes it can include a preceding \"Sentiment\" label, and without an output token limit, it may also add explanatory text afterwards.\n",
    "\n",
    "The Gemini API has an [Enum mode](https://github.com/google-gemini/cookbook/blob/main/quickstarts/Enum.ipynb) feature that allows you to constrain the output to a fixed set of values."
   ]
  },
  {
   "cell_type": "code",
   "execution_count": 18,
   "id": "f46c5200",
   "metadata": {
    "execution": {
     "iopub.execute_input": "2024-11-13T03:05:14.571907Z",
     "iopub.status.busy": "2024-11-13T03:05:14.570914Z",
     "iopub.status.idle": "2024-11-13T03:05:15.376153Z",
     "shell.execute_reply": "2024-11-13T03:05:15.374637Z"
    },
    "id": "ad118a56c598",
    "papermill": {
     "duration": 0.830292,
     "end_time": "2024-11-13T03:05:15.378717",
     "exception": false,
     "start_time": "2024-11-13T03:05:14.548425",
     "status": "completed"
    },
    "tags": []
   },
   "outputs": [
    {
     "name": "stdout",
     "output_type": "stream",
     "text": [
      "positive\n"
     ]
    }
   ],
   "source": [
    "import enum\n",
    "\n",
    "class Sentiment(enum.Enum):\n",
    "    POSITIVE = \"positive\"\n",
    "    NEUTRAL = \"neutral\"\n",
    "    NEGATIVE = \"negative\"\n",
    "\n",
    "\n",
    "model = genai.GenerativeModel(\n",
    "    'gemini-1.5-flash-001',\n",
    "    generation_config=genai.GenerationConfig(\n",
    "        response_mime_type=\"text/x.enum\",\n",
    "        response_schema=Sentiment\n",
    "    ))\n",
    "\n",
    "response = model.generate_content(zero_shot_prompt, request_options=retry_policy)\n",
    "print(response.text)"
   ]
  },
  {
   "cell_type": "markdown",
   "id": "efae9b30",
   "metadata": {
    "id": "0udiSwNbv45W",
    "papermill": {
     "duration": 0.020645,
     "end_time": "2024-11-13T03:05:15.420301",
     "exception": false,
     "start_time": "2024-11-13T03:05:15.399656",
     "status": "completed"
    },
    "tags": []
   },
   "source": [
    "### One-shot and few-shot\n",
    "\n",
    "Providing an example of the expected response is known as a \"one-shot\" prompt. When you provide multiple examples, it is a \"few-shot\" prompt.\n",
    "\n",
    "<table align=left>\n",
    "  <td>\n",
    "    <a target=\"_blank\" href=\"https://aistudio.google.com/prompts/1jjWkjUSoMXmLvMJ7IzADr_GxHPJVV2bg\"><img src=\"https://ai.google.dev/site-assets/images/marketing/home/icon-ais.png\" style=\"height: 24px\" height=24/> Open in AI Studio</a>\n",
    "  </td>\n",
    "</table>\n"
   ]
  },
  {
   "cell_type": "code",
   "execution_count": 19,
   "id": "6ba394dc",
   "metadata": {
    "execution": {
     "iopub.execute_input": "2024-11-13T03:05:15.464784Z",
     "iopub.status.busy": "2024-11-13T03:05:15.463949Z",
     "iopub.status.idle": "2024-11-13T03:05:18.219229Z",
     "shell.execute_reply": "2024-11-13T03:05:18.218038Z"
    },
    "id": "hd4mVUukwOKZ",
    "papermill": {
     "duration": 2.780506,
     "end_time": "2024-11-13T03:05:18.221679",
     "exception": false,
     "start_time": "2024-11-13T03:05:15.441173",
     "status": "completed"
    },
    "tags": []
   },
   "outputs": [
    {
     "name": "stdout",
     "output_type": "stream",
     "text": [
      "```json\n",
      "{\n",
      "\"size\": \"large\",\n",
      "\"type\": \"normal\",\n",
      "\"ingredients\": [\"cheese\", \"pineapple\"]\n",
      "}\n",
      "``` \n",
      "\n"
     ]
    }
   ],
   "source": [
    "model = genai.GenerativeModel(\n",
    "    'gemini-1.5-flash-latest',\n",
    "    generation_config=genai.GenerationConfig(\n",
    "        temperature=0.1,\n",
    "        top_p=1,\n",
    "        max_output_tokens=250,\n",
    "    ))\n",
    "\n",
    "few_shot_prompt = \"\"\"Parse a customer's pizza order into valid JSON:\n",
    "\n",
    "EXAMPLE:\n",
    "I want a small pizza with cheese, tomato sauce, and pepperoni.\n",
    "JSON Response:\n",
    "```\n",
    "{\n",
    "\"size\": \"small\",\n",
    "\"type\": \"normal\",\n",
    "\"ingredients\": [\"cheese\", \"tomato sauce\", \"peperoni\"]\n",
    "}\n",
    "```\n",
    "\n",
    "EXAMPLE:\n",
    "Can I get a large pizza with tomato sauce, basil and mozzarella\n",
    "JSON Response:\n",
    "```\n",
    "{\n",
    "\"size\": \"large\",\n",
    "\"type\": \"normal\",\n",
    "\"ingredients\": [\"tomato sauce\", \"basil\", \"mozzarella\"]\n",
    "}\n",
    "\n",
    "ORDER:\n",
    "\"\"\"\n",
    "\n",
    "customer_order = \"Give me a large with cheese & pineapple\"\n",
    "\n",
    "\n",
    "response = model.generate_content([few_shot_prompt, customer_order], request_options=retry_policy)\n",
    "print(response.text)"
   ]
  },
  {
   "cell_type": "markdown",
   "id": "dc2f5e2c",
   "metadata": {
    "id": "021293096f08",
    "papermill": {
     "duration": 0.020542,
     "end_time": "2024-11-13T03:05:18.263293",
     "exception": false,
     "start_time": "2024-11-13T03:05:18.242751",
     "status": "completed"
    },
    "tags": []
   },
   "source": [
    "#### JSON mode\n",
    "\n",
    "To provide control over the schema, and to ensure that you only receive JSON (with no other text or markdown), you can use the Gemini API's [JSON mode](https://github.com/google-gemini/cookbook/blob/main/quickstarts/JSON_mode.ipynb). This forces the model to constrain decoding, such that token selection is guided by the supplied schema."
   ]
  },
  {
   "cell_type": "code",
   "execution_count": 20,
   "id": "dffdeda3",
   "metadata": {
    "execution": {
     "iopub.execute_input": "2024-11-13T03:05:18.307017Z",
     "iopub.status.busy": "2024-11-13T03:05:18.306555Z",
     "iopub.status.idle": "2024-11-13T03:05:18.755150Z",
     "shell.execute_reply": "2024-11-13T03:05:18.753869Z"
    },
    "id": "50fbf0260912",
    "papermill": {
     "duration": 0.473308,
     "end_time": "2024-11-13T03:05:18.757607",
     "exception": false,
     "start_time": "2024-11-13T03:05:18.284299",
     "status": "completed"
    },
    "tags": []
   },
   "outputs": [
    {
     "name": "stdout",
     "output_type": "stream",
     "text": [
      "{\"ingredients\": [\"apple\", \"chocolate\"], \"size\": \"large\", \"type\": \"dessert\"}\n",
      "\n"
     ]
    }
   ],
   "source": [
    "import typing_extensions as typing\n",
    "\n",
    "class PizzaOrder(typing.TypedDict):\n",
    "    size: str\n",
    "    ingredients: list[str]\n",
    "    type: str\n",
    "\n",
    "\n",
    "model = genai.GenerativeModel(\n",
    "    'gemini-1.5-flash-latest',\n",
    "    generation_config=genai.GenerationConfig(\n",
    "        temperature=0.1,\n",
    "        response_mime_type=\"application/json\",\n",
    "        response_schema=PizzaOrder,\n",
    "    ))\n",
    "\n",
    "response = model.generate_content(\"Can I have a large dessert pizza with apple and chocolate\")\n",
    "print(response.text)"
   ]
  },
  {
   "cell_type": "markdown",
   "id": "4f8178cf",
   "metadata": {
    "id": "4a93e338e57c",
    "papermill": {
     "duration": 0.020622,
     "end_time": "2024-11-13T03:05:18.799399",
     "exception": false,
     "start_time": "2024-11-13T03:05:18.778777",
     "status": "completed"
    },
    "tags": []
   },
   "source": [
    "### Chain of Thought (CoT)\n",
    "\n",
    "Direct prompting on LLMs can return answers quickly and (in terms of output token usage) efficiently, but they can be prone to hallucination. The answer may \"look\" correct (in terms of language and syntax) but is incorrect in terms of factuality and reasoning.\n",
    "\n",
    "Chain-of-Thought prompting is a technique where you instruct the model to output intermediate reasoning steps, and it typically gets better results, especially when combined with few-shot examples. It is worth noting that this technique doesn't completely eliminate hallucinations, and that it tends to cost more to run, due to the increased token count.\n",
    "\n",
    "As models like the Gemini family are trained to be \"chatty\" and provide reasoning steps, you can ask the model to be more direct in the prompt."
   ]
  },
  {
   "cell_type": "code",
   "execution_count": 21,
   "id": "6b800175",
   "metadata": {
    "execution": {
     "iopub.execute_input": "2024-11-13T03:05:18.843579Z",
     "iopub.status.busy": "2024-11-13T03:05:18.843138Z",
     "iopub.status.idle": "2024-11-13T03:06:38.653055Z",
     "shell.execute_reply": "2024-11-13T03:06:38.651806Z"
    },
    "id": "5715555db1c1",
    "papermill": {
     "duration": 79.856086,
     "end_time": "2024-11-13T03:06:38.676591",
     "exception": false,
     "start_time": "2024-11-13T03:05:18.820505",
     "status": "completed"
    },
    "tags": []
   },
   "outputs": [
    {
     "name": "stdout",
     "output_type": "stream",
     "text": [
      "52 \n",
      "\n"
     ]
    }
   ],
   "source": [
    "prompt = \"\"\"When I was 4 years old, my partner was 3 times my age. Now, I\n",
    "am 20 years old. How old is my partner? Return the answer immediately.\"\"\"\n",
    "\n",
    "model = genai.GenerativeModel('gemini-1.5-flash-latest')\n",
    "response = model.generate_content(prompt, request_options=retry_policy)\n",
    "\n",
    "print(response.text)"
   ]
  },
  {
   "cell_type": "markdown",
   "id": "e0d88c97",
   "metadata": {
    "id": "e12b19677bfd",
    "papermill": {
     "duration": 0.020962,
     "end_time": "2024-11-13T03:06:38.719003",
     "exception": false,
     "start_time": "2024-11-13T03:06:38.698041",
     "status": "completed"
    },
    "tags": []
   },
   "source": [
    "Now try the same approach, but indicate to the model that it should \"think step by step\"."
   ]
  },
  {
   "cell_type": "code",
   "execution_count": 22,
   "id": "1e94bf7f",
   "metadata": {
    "execution": {
     "iopub.execute_input": "2024-11-13T03:06:38.763487Z",
     "iopub.status.busy": "2024-11-13T03:06:38.763031Z",
     "iopub.status.idle": "2024-11-13T03:06:39.442065Z",
     "shell.execute_reply": "2024-11-13T03:06:39.440890Z"
    },
    "id": "ffd7536a481f",
    "papermill": {
     "duration": 0.704476,
     "end_time": "2024-11-13T03:06:39.444773",
     "exception": false,
     "start_time": "2024-11-13T03:06:38.740297",
     "status": "completed"
    },
    "tags": []
   },
   "outputs": [
    {
     "name": "stdout",
     "output_type": "stream",
     "text": [
      "Here's how to solve this:\n",
      "\n",
      "* **When you were 4:** Your partner was 3 times your age, which is 4 * 3 = 12 years old.\n",
      "* **Age difference:** This means your partner is 12 - 4 = 8 years older than you.\n",
      "* **Current age:** Since you are now 20, your partner is still 8 years older, making them 20 + 8 = **28 years old**. \n",
      "\n"
     ]
    }
   ],
   "source": [
    "prompt = \"\"\"When I was 4 years old, my partner was 3 times my age. Now,\n",
    "I am 20 years old. How old is my partner? Let's think step by step.\"\"\"\n",
    "\n",
    "response = model.generate_content(prompt, request_options=retry_policy)\n",
    "print(response.text)"
   ]
  },
  {
   "cell_type": "markdown",
   "id": "45c2693c",
   "metadata": {
    "id": "oiLgBQJj0V53",
    "papermill": {
     "duration": 0.021016,
     "end_time": "2024-11-13T03:06:39.487236",
     "exception": false,
     "start_time": "2024-11-13T03:06:39.466220",
     "status": "completed"
    },
    "tags": []
   },
   "source": [
    "### ReAct: Reason and act\n",
    "\n",
    "In this example you will run a ReAct prompt directly in the Gemini API and perform the searching steps yourself. As this prompt follows a well-defined structure, there are frameworks available that wrap the prompt into easier-to-use APIs that make tool calls automatically, such as the LangChain example from the chapter.\n",
    "\n",
    "To try this out with the Wikipedia search engine, check out the [Searching Wikipedia with ReAct](https://github.com/google-gemini/cookbook/blob/main/examples/Search_Wikipedia_using_ReAct.ipynb) cookbook example.\n",
    "\n",
    "\n",
    "> Note: The prompt and in-context examples used here are from [https://github.com/ysymyth/ReAct](https://github.com/ysymyth/ReAct) which is published under a [MIT license](https://opensource.org/licenses/MIT), Copyright (c) 2023 Shunyu Yao.\n",
    "\n",
    "<table align=left>\n",
    "  <td>\n",
    "    <a target=\"_blank\" href=\"https://aistudio.google.com/prompts/18oo63Lwosd-bQ6Ay51uGogB3Wk3H8XMO\"><img src=\"https://ai.google.dev/site-assets/images/marketing/home/icon-ais.png\" style=\"height: 24px\" height=24/> Open in AI Studio</a>\n",
    "  </td>\n",
    "</table>\n"
   ]
  },
  {
   "cell_type": "code",
   "execution_count": 23,
   "id": "07e8425e",
   "metadata": {
    "execution": {
     "iopub.execute_input": "2024-11-13T03:06:39.533250Z",
     "iopub.status.busy": "2024-11-13T03:06:39.532471Z",
     "iopub.status.idle": "2024-11-13T03:06:39.541910Z",
     "shell.execute_reply": "2024-11-13T03:06:39.540414Z"
    },
    "id": "cBgyNJ5z0VSs",
    "papermill": {
     "duration": 0.036355,
     "end_time": "2024-11-13T03:06:39.544956",
     "exception": false,
     "start_time": "2024-11-13T03:06:39.508601",
     "status": "completed"
    },
    "tags": []
   },
   "outputs": [],
   "source": [
    "model_instructions = \"\"\"\n",
    "Solve a question answering task with interleaving Thought, Action, Observation steps. Thought can reason about the current situation,\n",
    "Observation is understanding relevant information from an Action's output and Action can be one of three types:\n",
    " (1) <search>entity</search>, which searches the exact entity on Wikipedia and returns the first paragraph if it exists. If not, it\n",
    "     will return some similar entities to search and you can try to search the information from those topics.\n",
    " (2) <lookup>keyword</lookup>, which returns the next sentence containing keyword in the current context. This only does exact matches,\n",
    "     so keep your searches short.\n",
    " (3) <finish>answer</finish>, which returns the answer and finishes the task.\n",
    "\"\"\"\n",
    "\n",
    "example1 = \"\"\"Question\n",
    "Musician and satirist Allie Goertz wrote a song about the \"The Simpsons\" character Milhouse, who Matt Groening named after who?\n",
    "\n",
    "Thought 1\n",
    "The question simplifies to \"The Simpsons\" character Milhouse is named after who. I only need to search Milhouse and find who it is named after.\n",
    "\n",
    "Action 1\n",
    "<search>Milhouse</search>\n",
    "\n",
    "Observation 1\n",
    "Milhouse Mussolini Van Houten is a recurring character in the Fox animated television series The Simpsons voiced by Pamela Hayden and created by Matt Groening.\n",
    "\n",
    "Thought 2\n",
    "The paragraph does not tell who Milhouse is named after, maybe I can look up \"named after\".\n",
    "\n",
    "Action 2\n",
    "<lookup>named after</lookup>\n",
    "\n",
    "Observation 2\n",
    "Milhouse was named after U.S. president Richard Nixon, whose middle name was Milhous.\n",
    "\n",
    "Thought 3\n",
    "Milhouse was named after U.S. president Richard Nixon, so the answer is Richard Nixon.\n",
    "\n",
    "Action 3\n",
    "<finish>Richard Nixon</finish>\n",
    "\"\"\"\n",
    "\n",
    "example2 = \"\"\"Question\n",
    "What is the elevation range for the area that the eastern sector of the Colorado orogeny extends into?\n",
    "\n",
    "Thought 1\n",
    "I need to search Colorado orogeny, find the area that the eastern sector of the Colorado orogeny extends into, then find the elevation range of the area.\n",
    "\n",
    "Action 1\n",
    "<search>Colorado orogeny</search>\n",
    "\n",
    "Observation 1\n",
    "The Colorado orogeny was an episode of mountain building (an orogeny) in Colorado and surrounding areas.\n",
    "\n",
    "Thought 2\n",
    "It does not mention the eastern sector. So I need to look up eastern sector.\n",
    "\n",
    "Action 2\n",
    "<lookup>eastern sector</lookup>\n",
    "\n",
    "Observation 2\n",
    "The eastern sector extends into the High Plains and is called the Central Plains orogeny.\n",
    "\n",
    "Thought 3\n",
    "The eastern sector of Colorado orogeny extends into the High Plains. So I need to search High Plains and find its elevation range.\n",
    "\n",
    "Action 3\n",
    "<search>High Plains</search>\n",
    "\n",
    "Observation 3\n",
    "High Plains refers to one of two distinct land regions\n",
    "\n",
    "Thought 4\n",
    "I need to instead search High Plains (United States).\n",
    "\n",
    "Action 4\n",
    "<search>High Plains (United States)</search>\n",
    "\n",
    "Observation 4\n",
    "The High Plains are a subregion of the Great Plains. From east to west, the High Plains rise in elevation from around 1,800 to 7,000 ft (550 to 2,130m).\n",
    "\n",
    "Thought 5\n",
    "High Plains rise in elevation from around 1,800 to 7,000 ft, so the answer is 1,800 to 7,000 ft.\n",
    "\n",
    "Action 5\n",
    "<finish>1,800 to 7,000 ft</finish>\n",
    "\"\"\"\n",
    "\n",
    "# Come up with more examples yourself, or take a look through https://github.com/ysymyth/ReAct/"
   ]
  },
  {
   "cell_type": "markdown",
   "id": "0601d9d2",
   "metadata": {
    "id": "C3wbfstjTgey",
    "papermill": {
     "duration": 0.021281,
     "end_time": "2024-11-13T03:06:39.587753",
     "exception": false,
     "start_time": "2024-11-13T03:06:39.566472",
     "status": "completed"
    },
    "tags": []
   },
   "source": [
    "To capture a single step at a time, while ignoring any hallucinated Observation steps, you will use `stop_sequences` to end the generation process. The steps are `Thought`, `Action`, `Observation`, in that order."
   ]
  },
  {
   "cell_type": "code",
   "execution_count": 24,
   "id": "f3cb6152",
   "metadata": {
    "execution": {
     "iopub.execute_input": "2024-11-13T03:06:39.632779Z",
     "iopub.status.busy": "2024-11-13T03:06:39.632361Z",
     "iopub.status.idle": "2024-11-13T03:06:41.045285Z",
     "shell.execute_reply": "2024-11-13T03:06:41.043989Z"
    },
    "id": "8mxrXRkRTdXm",
    "papermill": {
     "duration": 1.43841,
     "end_time": "2024-11-13T03:06:41.048000",
     "exception": false,
     "start_time": "2024-11-13T03:06:39.609590",
     "status": "completed"
    },
    "tags": []
   },
   "outputs": [
    {
     "name": "stdout",
     "output_type": "stream",
     "text": [
      "Thought 1\n",
      "I need to find the Transformers NLP paper and then look for the youngest author.\n",
      "\n",
      "Action 1\n",
      "<search>Transformers NLP paper</search>\n",
      "\n"
     ]
    }
   ],
   "source": [
    "question = \"\"\"Question\n",
    "Who was the youngest author listed on the transformers NLP paper?\n",
    "\"\"\"\n",
    "\n",
    "model = genai.GenerativeModel('gemini-1.5-flash-latest')\n",
    "react_chat = model.start_chat()\n",
    "\n",
    "# You will perform the Action, so generate up to, but not including, the Observation.\n",
    "config = genai.GenerationConfig(stop_sequences=[\"\\nObservation\"])\n",
    "\n",
    "resp = react_chat.send_message(\n",
    "    [model_instructions, example1, example2, question],\n",
    "    generation_config=config,\n",
    "    request_options=retry_policy)\n",
    "print(resp.text)"
   ]
  },
  {
   "cell_type": "markdown",
   "id": "e8991938",
   "metadata": {
    "id": "aW2PIdLbVv3l",
    "papermill": {
     "duration": 0.02131,
     "end_time": "2024-11-13T03:06:41.091587",
     "exception": false,
     "start_time": "2024-11-13T03:06:41.070277",
     "status": "completed"
    },
    "tags": []
   },
   "source": [
    "Now you can perform this research yourself and supply it back to the model."
   ]
  },
  {
   "cell_type": "code",
   "execution_count": 25,
   "id": "7bfb9b9b",
   "metadata": {
    "execution": {
     "iopub.execute_input": "2024-11-13T03:06:41.137266Z",
     "iopub.status.busy": "2024-11-13T03:06:41.136044Z",
     "iopub.status.idle": "2024-11-13T03:06:41.772583Z",
     "shell.execute_reply": "2024-11-13T03:06:41.771293Z"
    },
    "id": "mLMc0DZaV9g2",
    "papermill": {
     "duration": 0.662359,
     "end_time": "2024-11-13T03:06:41.775398",
     "exception": false,
     "start_time": "2024-11-13T03:06:41.113039",
     "status": "completed"
    },
    "tags": []
   },
   "outputs": [
    {
     "name": "stdout",
     "output_type": "stream",
     "text": [
      "Thought 2\n",
      "The observation only mentions the authors but does not have their ages. I need to find their ages.\n",
      "\n",
      "Action 2\n",
      "<search>Ashish Vaswani age</search> \n",
      "\n"
     ]
    }
   ],
   "source": [
    "observation = \"\"\"Observation 1\n",
    "[1706.03762] Attention Is All You Need\n",
    "Ashish Vaswani, Noam Shazeer, Niki Parmar, Jakob Uszkoreit, Llion Jones, Aidan N. Gomez, Lukasz Kaiser, Illia Polosukhin\n",
    "We propose a new simple network architecture, the Transformer, based solely on attention mechanisms, dispensing with recurrence and convolutions entirely.\n",
    "\"\"\"\n",
    "resp = react_chat.send_message(observation, generation_config=config, request_options=retry_policy)\n",
    "print(resp.text)"
   ]
  },
  {
   "cell_type": "markdown",
   "id": "3278cd02",
   "metadata": {
    "id": "bo0tzf4nX6dA",
    "papermill": {
     "duration": 0.021284,
     "end_time": "2024-11-13T03:06:41.818332",
     "exception": false,
     "start_time": "2024-11-13T03:06:41.797048",
     "status": "completed"
    },
    "tags": []
   },
   "source": [
    "This process repeats until the `<finish>` action is reached. You can continue running this yourself if you like, or try the [Wikipedia example](https://github.com/google-gemini/cookbook/blob/main/examples/Search_Wikipedia_using_ReAct.ipynb) to see a fully automated ReAct system at work."
   ]
  },
  {
   "cell_type": "markdown",
   "id": "57e99f4c",
   "metadata": {
    "id": "jPiZ_eIIaVPt",
    "papermill": {
     "duration": 0.021253,
     "end_time": "2024-11-13T03:06:41.861265",
     "exception": false,
     "start_time": "2024-11-13T03:06:41.840012",
     "status": "completed"
    },
    "tags": []
   },
   "source": [
    "## Code prompting"
   ]
  },
  {
   "cell_type": "markdown",
   "id": "40f8ffb4",
   "metadata": {
    "id": "ZinKamwXeR6C",
    "papermill": {
     "duration": 0.021401,
     "end_time": "2024-11-13T03:06:41.904321",
     "exception": false,
     "start_time": "2024-11-13T03:06:41.882920",
     "status": "completed"
    },
    "tags": []
   },
   "source": [
    "### Generating code\n",
    "\n",
    "The Gemini family of models can be used to generate code, configuration and scripts. Generating code can be helpful when learning to code, learning a new language or for rapidly generating a first draft.\n",
    "\n",
    "It's important to be aware that since LLMs can't reason, and can repeat training data, it's essential to read and test your code first, and comply with any relevant licenses.\n",
    "\n",
    "<table align=left>\n",
    "  <td>\n",
    "    <a target=\"_blank\" href=\"https://aistudio.google.com/prompts/1YX71JGtzDjXQkgdes8bP6i3oH5lCRKxv\"><img src=\"https://ai.google.dev/site-assets/images/marketing/home/icon-ais.png\" style=\"height: 24px\" height=24/> Open in AI Studio</a>\n",
    "  </td>\n",
    "</table>"
   ]
  },
  {
   "cell_type": "code",
   "execution_count": 26,
   "id": "6245ee72",
   "metadata": {
    "execution": {
     "iopub.execute_input": "2024-11-13T03:06:41.949403Z",
     "iopub.status.busy": "2024-11-13T03:06:41.948954Z",
     "iopub.status.idle": "2024-11-13T03:06:42.524693Z",
     "shell.execute_reply": "2024-11-13T03:06:42.523483Z"
    },
    "id": "fOQP9pqmeUO1",
    "papermill": {
     "duration": 0.601633,
     "end_time": "2024-11-13T03:06:42.527526",
     "exception": false,
     "start_time": "2024-11-13T03:06:41.925893",
     "status": "completed"
    },
    "tags": []
   },
   "outputs": [
    {
     "data": {
      "text/markdown": [
       "```python\n",
       "def factorial(n):\n",
       "  if n == 0:\n",
       "    return 1\n",
       "  else:\n",
       "    return n * factorial(n-1)\n",
       "```"
      ],
      "text/plain": [
       "<IPython.core.display.Markdown object>"
      ]
     },
     "execution_count": 26,
     "metadata": {},
     "output_type": "execute_result"
    }
   ],
   "source": [
    "model = genai.GenerativeModel(\n",
    "    'gemini-1.5-flash-latest',\n",
    "    generation_config=genai.GenerationConfig(\n",
    "        temperature=1,\n",
    "        top_p=1,\n",
    "        max_output_tokens=1024,\n",
    "    ))\n",
    "\n",
    "# Gemini 1.5 models are very chatty, so it helps to specify they stick to the code.\n",
    "code_prompt = \"\"\"\n",
    "Write a Python function to calculate the factorial of a number. No explanation, provide only the code.\n",
    "\"\"\"\n",
    "\n",
    "response = model.generate_content(code_prompt, request_options=retry_policy)\n",
    "Markdown(response.text)"
   ]
  },
  {
   "cell_type": "markdown",
   "id": "7d2dfdbf",
   "metadata": {
    "id": "wlBMWSFhgVRQ",
    "papermill": {
     "duration": 0.022439,
     "end_time": "2024-11-13T03:06:42.573561",
     "exception": false,
     "start_time": "2024-11-13T03:06:42.551122",
     "status": "completed"
    },
    "tags": []
   },
   "source": [
    "### Code execution\n",
    "\n",
    "The Gemini API can automatically run generated code too, and will return the output.\n",
    "\n",
    "<table align=left>\n",
    "  <td>\n",
    "    <a target=\"_blank\" href=\"https://aistudio.google.com/prompts/11veFr_VYEwBWcLkhNLr-maCG0G8sS_7Z\"><img src=\"https://ai.google.dev/site-assets/images/marketing/home/icon-ais.png\" style=\"height: 24px\" height=24/> Open in AI Studio</a>\n",
    "  </td>\n",
    "</table>"
   ]
  },
  {
   "cell_type": "code",
   "execution_count": 27,
   "id": "d1be0d97",
   "metadata": {
    "execution": {
     "iopub.execute_input": "2024-11-13T03:06:42.619552Z",
     "iopub.status.busy": "2024-11-13T03:06:42.618692Z",
     "iopub.status.idle": "2024-11-13T03:06:48.957926Z",
     "shell.execute_reply": "2024-11-13T03:06:48.956666Z"
    },
    "id": "jT3OfWYfhjRL",
    "papermill": {
     "duration": 6.365246,
     "end_time": "2024-11-13T03:06:48.960586",
     "exception": false,
     "start_time": "2024-11-13T03:06:42.595340",
     "status": "completed"
    },
    "tags": []
   },
   "outputs": [
    {
     "data": {
      "text/markdown": [
       "I will calculate the sum of the first 14 odd prime numbers. \n",
       "\n",
       "First, I need to identify the first 14 odd prime numbers. \n",
       "A prime number is a number greater than 1 that is only divisible by 1 and itself. \n",
       "\n",
       "\n",
       "``` python\n",
       "import sympy\n",
       "\n",
       "primes = list(sympy.primerange(0, 50))\n",
       "print(f'{primes=}')\n",
       "\n",
       "```\n",
       "```\n",
       "primes=[2, 3, 5, 7, 11, 13, 17, 19, 23, 29, 31, 37, 41, 43, 47]\n",
       "\n",
       "```\n",
       "The first 14 odd prime numbers are: 3, 5, 7, 11, 13, 17, 19, 23, 29, 31, 37, 41, 43, and 47.\n",
       "\n",
       "Now I will calculate their sum. \n",
       "\n",
       "\n",
       "``` python\n",
       "sum = 3 + 5 + 7 + 11 + 13 + 17 + 19 + 23 + 29 + 31 + 37 + 41 + 43 + 47\n",
       "print(f'sum = {sum}')\n",
       "\n",
       "```\n",
       "```\n",
       "sum = 326\n",
       "\n",
       "```\n",
       "The sum of the first 14 odd prime numbers is 326. \n"
      ],
      "text/plain": [
       "<IPython.core.display.Markdown object>"
      ]
     },
     "execution_count": 27,
     "metadata": {},
     "output_type": "execute_result"
    }
   ],
   "source": [
    "model = genai.GenerativeModel(\n",
    "    'gemini-1.5-flash-latest',\n",
    "    tools='code_execution',)\n",
    "\n",
    "code_exec_prompt = \"\"\"\n",
    "Calculate the sum of the first 14 prime numbers. Only consider the odd primes, and make sure you count them all.\n",
    "\"\"\"\n",
    "\n",
    "response = model.generate_content(code_exec_prompt, request_options=retry_policy)\n",
    "Markdown(response.text)"
   ]
  },
  {
   "cell_type": "markdown",
   "id": "7d34436f",
   "metadata": {
    "id": "ZspT1GSkjG6d",
    "papermill": {
     "duration": 0.02173,
     "end_time": "2024-11-13T03:06:49.004236",
     "exception": false,
     "start_time": "2024-11-13T03:06:48.982506",
     "status": "completed"
    },
    "tags": []
   },
   "source": [
    "While this looks like a single-part response, you can inspect the response to see the each of the steps: initial text, code generation, execution results, and final text summary."
   ]
  },
  {
   "cell_type": "code",
   "execution_count": 28,
   "id": "24d60d33",
   "metadata": {
    "execution": {
     "iopub.execute_input": "2024-11-13T03:06:49.050452Z",
     "iopub.status.busy": "2024-11-13T03:06:49.049658Z",
     "iopub.status.idle": "2024-11-13T03:06:49.056268Z",
     "shell.execute_reply": "2024-11-13T03:06:49.055165Z"
    },
    "id": "j4gQVzcRjRX-",
    "papermill": {
     "duration": 0.033555,
     "end_time": "2024-11-13T03:06:49.059762",
     "exception": false,
     "start_time": "2024-11-13T03:06:49.026207",
     "status": "completed"
    },
    "tags": []
   },
   "outputs": [
    {
     "name": "stdout",
     "output_type": "stream",
     "text": [
      "text: \"I will calculate the sum of the first 14 odd prime numbers. \\n\\nFirst, I need to identify the first 14 odd prime numbers. \\nA prime number is a number greater than 1 that is only divisible by 1 and itself. \\n\\n\"\n",
      "\n",
      "-----\n",
      "executable_code {\n",
      "  language: PYTHON\n",
      "  code: \"\\nimport sympy\\n\\nprimes = list(sympy.primerange(0, 50))\\nprint(f\\'{primes=}\\')\\n\"\n",
      "}\n",
      "\n",
      "-----\n",
      "code_execution_result {\n",
      "  outcome: OUTCOME_OK\n",
      "  output: \"primes=[2, 3, 5, 7, 11, 13, 17, 19, 23, 29, 31, 37, 41, 43, 47]\\n\"\n",
      "}\n",
      "\n",
      "-----\n",
      "text: \"The first 14 odd prime numbers are: 3, 5, 7, 11, 13, 17, 19, 23, 29, 31, 37, 41, 43, and 47.\\n\\nNow I will calculate their sum. \\n\\n\"\n",
      "\n",
      "-----\n",
      "executable_code {\n",
      "  language: PYTHON\n",
      "  code: \"\\nsum = 3 + 5 + 7 + 11 + 13 + 17 + 19 + 23 + 29 + 31 + 37 + 41 + 43 + 47\\nprint(f\\'sum = {sum}\\')\\n\"\n",
      "}\n",
      "\n",
      "-----\n",
      "code_execution_result {\n",
      "  outcome: OUTCOME_OK\n",
      "  output: \"sum = 326\\n\"\n",
      "}\n",
      "\n",
      "-----\n",
      "text: \"The sum of the first 14 odd prime numbers is 326. \\n\"\n",
      "\n",
      "-----\n"
     ]
    }
   ],
   "source": [
    "for part in response.candidates[0].content.parts:\n",
    "  print(part)\n",
    "  print(\"-----\")"
   ]
  },
  {
   "cell_type": "markdown",
   "id": "46541ea0",
   "metadata": {
    "id": "1gUX8QzCj4d5",
    "papermill": {
     "duration": 0.021891,
     "end_time": "2024-11-13T03:06:49.104435",
     "exception": false,
     "start_time": "2024-11-13T03:06:49.082544",
     "status": "completed"
    },
    "tags": []
   },
   "source": [
    "### Explaining code\n",
    "\n",
    "The Gemini family of models can explain code to you too.\n",
    "\n",
    "<table align=left>\n",
    "  <td>\n",
    "    <a target=\"_blank\" href=\"https://aistudio.google.com/prompts/1N7LGzWzCYieyOf_7bAG4plrmkpDNmUyb\"><img src=\"https://ai.google.dev/site-assets/images/marketing/home/icon-ais.png\" style=\"height: 24px\" height=24/> Open in AI Studio</a>\n",
    "  </td>\n",
    "</table>"
   ]
  },
  {
   "cell_type": "code",
   "execution_count": 29,
   "id": "394eb914",
   "metadata": {
    "execution": {
     "iopub.execute_input": "2024-11-13T03:06:49.151593Z",
     "iopub.status.busy": "2024-11-13T03:06:49.150696Z",
     "iopub.status.idle": "2024-11-13T03:06:52.523592Z",
     "shell.execute_reply": "2024-11-13T03:06:52.522296Z"
    },
    "id": "7_jPMMoxkIEb",
    "papermill": {
     "duration": 3.399239,
     "end_time": "2024-11-13T03:06:52.526148",
     "exception": false,
     "start_time": "2024-11-13T03:06:49.126909",
     "status": "completed"
    },
    "tags": []
   },
   "outputs": [
    {
     "data": {
      "text/markdown": [
       "This file is a Bash script called `git-prompt.sh`. It's designed to enhance your Bash command prompt by adding Git-related information. \n",
       "\n",
       "Here's a high-level breakdown of its purpose and usage:\n",
       "\n",
       "**What it does:**\n",
       "\n",
       "* **Integrates Git information into your prompt:** The script gathers details about your current Git repository (branch, status, upstream changes, etc.) and incorporates them into your Bash prompt. \n",
       "* **Provides customization:** You can configure the script to display information in a way you prefer, such as:\n",
       "    * Which Git information to show (e.g., untracked files, staged changes, conflicts, stashes)\n",
       "    * Colors and symbols to use for different Git states\n",
       "    * The position of the Git information within the prompt\n",
       "    *  Even define your own color themes.\n",
       "* **Handles remote status:**  The script can periodically fetch remote changes to keep your prompt up-to-date.\n",
       "\n",
       "**Why you'd use it:**\n",
       "\n",
       "* **Improved Git awareness:** Instead of constantly running `git status`, you can easily see the state of your repository directly in your prompt.\n",
       "* **Increased efficiency:**  The visual cues from the prompt can quickly alert you to issues like uncommitted changes, conflicts, or new branches.\n",
       "* **Enhanced workflow:**  The script can help you navigate your Git workflow more smoothly by providing context and visibility.\n",
       "\n",
       "**How to use it:**\n",
       "\n",
       "1. **Get the script:** Download the `git-prompt.sh` script from the source provided.\n",
       "2. **Place the script:** Put the script in a location accessible to your Bash environment (e.g., your home directory or a directory in your PATH).\n",
       "3. **Source the script:** Add the following line to your `.bashrc` (or equivalent configuration file):\n",
       "\n",
       "   ```bash\n",
       "   source /path/to/git-prompt.sh\n",
       "   ```\n",
       "\n",
       "   Replace `/path/to/git-prompt.sh` with the actual location of the script.\n",
       "4. **Restart your Bash session** or run `source ~/.bashrc` for the changes to take effect.\n",
       "5. **Customize (optional):**  Edit the script or the accompanying `prompt-colors.sh` file to adjust the settings and theme to your liking.\n",
       "\n",
       "**Important notes:**\n",
       "\n",
       "* This script is designed to be used with Bash.\n",
       "* The script is a bit complex due to the various features and customization options it provides. \n",
       "* You can find more information about the script, including installation instructions, configuration details, and advanced usage, on the original source site. \n"
      ],
      "text/plain": [
       "<IPython.core.display.Markdown object>"
      ]
     },
     "execution_count": 29,
     "metadata": {},
     "output_type": "execute_result"
    }
   ],
   "source": [
    "file_contents = !curl https://raw.githubusercontent.com/magicmonty/bash-git-prompt/refs/heads/master/gitprompt.sh\n",
    "\n",
    "explain_prompt = f\"\"\"\n",
    "Please explain what this file does at a very high level. What is it, and why would I use it?\n",
    "\n",
    "```\n",
    "{file_contents}\n",
    "```\n",
    "\"\"\"\n",
    "\n",
    "model = genai.GenerativeModel('gemini-1.5-flash-latest')\n",
    "\n",
    "response = model.generate_content(explain_prompt, request_options=retry_policy)\n",
    "Markdown(response.text)"
   ]
  },
  {
   "cell_type": "markdown",
   "id": "f8f04709",
   "metadata": {
    "id": "2a8266d97ce5",
    "papermill": {
     "duration": 0.022155,
     "end_time": "2024-11-13T03:06:52.571110",
     "exception": false,
     "start_time": "2024-11-13T03:06:52.548955",
     "status": "completed"
    },
    "tags": []
   },
   "source": [
    "## Learn more\n",
    "\n",
    "To learn more about prompting in depth:\n",
    "\n",
    "* Check out the whitepaper issued with today's content,\n",
    "* Try out the apps listed at the top of this notebook ([TextFX](https://textfx.withgoogle.com/), [SQL Talk](https://sql-talk-r5gdynozbq-uc.a.run.app/) and [NotebookLM](https://notebooklm.google/)),\n",
    "* Read the [Introduction to Prompting](https://ai.google.dev/gemini-api/docs/prompting-intro) from the Gemini API docs,\n",
    "* Explore the Gemini API's [prompt gallery](https://ai.google.dev/gemini-api/prompts) and try them out in AI Studio,\n",
    "* Check out the Gemini API cookbook for [inspirational examples](https://github.com/google-gemini/cookbook/blob/main/examples/) and [educational quickstarts](https://github.com/google-gemini/cookbook/blob/main/quickstarts/).\n",
    "\n",
    "And please share anything exciting you have tried in the Discord!"
   ]
  }
 ],
 "metadata": {
  "colab": {
   "name": "day-1-prompting.ipynb",
   "toc_visible": true
  },
  "kaggle": {
   "accelerator": "none",
   "dataSources": [],
   "dockerImageVersionId": 30786,
   "isGpuEnabled": false,
   "isInternetEnabled": true,
   "language": "python",
   "sourceType": "notebook"
  },
  "kernelspec": {
   "display_name": "Python 3",
   "language": "python",
   "name": "python3"
  },
  "language_info": {
   "codemirror_mode": {
    "name": "ipython",
    "version": 3
   },
   "file_extension": ".py",
   "mimetype": "text/x-python",
   "name": "python",
   "nbconvert_exporter": "python",
   "pygments_lexer": "ipython3",
   "version": "3.10.14"
  },
  "papermill": {
   "default_parameters": {},
   "duration": 147.633981,
   "end_time": "2024-11-13T03:06:53.217844",
   "environment_variables": {},
   "exception": null,
   "input_path": "__notebook__.ipynb",
   "output_path": "__notebook__.ipynb",
   "parameters": {},
   "start_time": "2024-11-13T03:04:25.583863",
   "version": "2.6.0"
  }
 },
 "nbformat": 4,
 "nbformat_minor": 5
}
